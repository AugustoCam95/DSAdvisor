{
 "cells": [
  {
   "cell_type": "code",
   "execution_count": 6,
   "metadata": {},
   "outputs": [],
   "source": [
    "import easygui\n",
    "import numpy as np\n",
    "import pandas as pd\n",
    "import warnings\n",
    "import scipy.stats as st\n",
    "\n",
    "warnings.filterwarnings('ignore') "
   ]
  },
  {
   "cell_type": "code",
   "execution_count": 7,
   "metadata": {},
   "outputs": [],
   "source": [
    "dataframe = pd.read_csv(\"iris.csv\")"
   ]
  },
  {
   "cell_type": "code",
   "execution_count": 8,
   "metadata": {},
   "outputs": [],
   "source": [
    "dataset = dataframe\n",
    "for col in dataset.columns:\n",
    "    if dataset[col].dtypes == 'float64' or dataset[col].dtypes == 'int64' :\n",
    "        pass\n",
    "    else:\n",
    "        dataset = dataset.drop( columns = [col])"
   ]
  },
  {
   "cell_type": "code",
   "execution_count": 9,
   "metadata": {},
   "outputs": [],
   "source": [
    "df_columns = list(dataset.columns)"
   ]
  },
  {
   "cell_type": "code",
   "execution_count": 10,
   "metadata": {},
   "outputs": [],
   "source": [
    "def get_best_distribution(data):\n",
    "    dist_names = [\"alpha\", \"anglit\", \"arcsine\", \"argus\", \"beta\", \"betaprime\", \"bradford\", \"burr\", \"burr12\", \n",
    "                  \"cauchy\", \"chi\",\"chi2\",\"cosine\",\"crystalball\", \"dgamma\", \"dweibull\", \"erlang\", \"expon\", \n",
    "                  \"exponnorm\",\"exponweib\", \"exponpow\", \"f\", \"fatiguelife\", \"fisk\", \"foldcauchy\", \"foldnorm\", \n",
    "                  \"frechet_r\", \"frechet_l\", \"genlogistic\", \"gennorm\", \"genpareto\", \"genexpon\", \"genextreme\",\n",
    "                  \"gausshyper\", \"gamma\", \"gengamma\", \"genhalflogistic\", \"gilbrat\", \"gompertz\", \n",
    "                  \"gumbel_r\", \"gumbel_l\", \"halfcauchy\", \"halflogistic\", \"halfnorm\", \"halfgennorm\", \"hypsecant\", \n",
    "                  \"invgamma\", \"invweibull\", \"johnsonsb\", \"johnsonsu\", \"kappa4\", \"kappa3\", \"ksone\", \n",
    "                  \"kstwobign\", \"laplace\", \"levy\", \"levy_l\", \"logistic\", \"loggamma\", \"loglaplace\",\n",
    "                  \"lognorm\", \"loguniform\", \"lomax\", \"maxwell\", \"mielke\", \"moyal\", \"nakagami\", \"ncx2\",\"ncf\",\n",
    "                  \"norm\", \"pareto\", \"pearson3\", \"powerlaw\", \"powerlognorm\", \"powernorm\",\"rdist\", \n",
    "                  \"rayleigh\", \"rice\", \"semicircular\", \"skewnorm\", \"t\", \"trapz\", \"triang\",\n",
    "                  \"truncexpon\", \"uniform\", \"vonmises\", \"vonmises_line\", \"wald\", \"weibull_min\",\n",
    "                  \"weibull_max\", \"wrapcauchy\"]\n",
    "    dist_results = []\n",
    "    params = {}\n",
    "    for dist_name in dist_names:\n",
    "        dist = getattr(st, dist_name)\n",
    "        param = dist.fit(data)\n",
    "\n",
    "        params[dist_name] = param\n",
    "        # Applying the Kolmogorov-Smirnov test\n",
    "        D, p = st.kstest(data, dist_name, args=param)\n",
    "#         print(\"p value for \"+dist_name+\" = \"+str(p))\n",
    "        dist_results.append((dist_name, p))\n",
    "\n",
    "    # select the best fitted distribution\n",
    "    best_dist, best_p = (max(dist_results, key=lambda item: item[1]))\n",
    "    # store the name of the best fit and its p value\n",
    "\n",
    "    print(\"Best fitting distribution: \"+str(best_dist))\n",
    "    print(\"Best p value: \"+ str(best_p))\n",
    "    print(\"Parameters for the best fit: \"+ str(params[best_dist]))\n",
    "\n",
    "    return best_dist, best_p, params[best_dist]"
   ]
  },
  {
   "cell_type": "code",
   "execution_count": 11,
   "metadata": {},
   "outputs": [
    {
     "name": "stdout",
     "output_type": "stream",
     "text": [
      "-------------- sepal.length -------------\n",
      "Best fitting distribution: gompertz\n",
      "Best p value: 0.7398305455339103\n",
      "Parameters for the best fit: (0.26211132420013683, 4.29999999459768, 1.174715457482491)\n",
      "----------------------------------\n",
      "-------------- sepal.width -------------\n",
      "Best fitting distribution: betaprime\n",
      "Best p value: 0.19732999820150468\n",
      "Parameters for the best fit: (94.88026734244994, 301.2748330441849, -0.6235405870094228, 11.647736088784427)\n",
      "----------------------------------\n",
      "-------------- petal.length -------------\n",
      "Best fitting distribution: ksone\n",
      "Best p value: 0.0022412801470413036\n",
      "Parameters for the best fit: (1.0000057399176612, 0.43753883822503326, 6.46246261588562)\n",
      "----------------------------------\n",
      "-------------- petal.width -------------\n",
      "Best fitting distribution: beta\n",
      "Best p value: 0.03448584298288087\n",
      "Parameters for the best fit: (0.8131053395369656, 0.7478130065309456, -0.1396131190687176, 2.639613119068718)\n",
      "----------------------------------\n"
     ]
    }
   ],
   "source": [
    "for col in dataset.columns:\n",
    "    print(\"-------------- {} -------------\".format(col))\n",
    "    get_best_distribution(dataset[col])\n",
    "    print(\"----------------------------------\")"
   ]
  },
  {
   "cell_type": "code",
   "execution_count": null,
   "metadata": {},
   "outputs": [],
   "source": []
  }
 ],
 "metadata": {
  "kernelspec": {
   "display_name": "Python 3",
   "language": "python",
   "name": "python3"
  },
  "language_info": {
   "codemirror_mode": {
    "name": "ipython",
    "version": 3
   },
   "file_extension": ".py",
   "mimetype": "text/x-python",
   "name": "python",
   "nbconvert_exporter": "python",
   "pygments_lexer": "ipython3",
   "version": "3.8.5"
  }
 },
 "nbformat": 4,
 "nbformat_minor": 4
}
