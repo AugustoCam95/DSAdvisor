{
 "cells": [
  {
   "cell_type": "markdown",
   "metadata": {},
   "source": [
    "# Análise estatística"
   ]
  },
  {
   "cell_type": "markdown",
   "metadata": {},
   "source": [
    "-----------------------------"
   ]
  },
  {
   "cell_type": "code",
   "execution_count": 1,
   "metadata": {},
   "outputs": [],
   "source": [
    "## IMPORTS\n",
    "%matplotlib inline\n",
    "\n",
    "import easygui\n",
    "import seaborn as sns\n",
    "import numpy as np\n",
    "import pandas as pd\n",
    "import matplotlib.pyplot as plt\n",
    "import warnings\n",
    "import scipy.stats as st\n",
    "from sklearn.preprocessing import MinMaxScaler\n",
    "\n",
    "warnings.filterwarnings('ignore') "
   ]
  },
  {
   "cell_type": "markdown",
   "metadata": {},
   "source": [
    "---------------------------"
   ]
  },
  {
   "cell_type": "code",
   "execution_count": 2,
   "metadata": {},
   "outputs": [],
   "source": [
    "## Load dataset\n",
    "\n",
    "dataframe = pd.read_csv(\"abalone_with_distnormal_columns.csv\")"
   ]
  },
  {
   "cell_type": "code",
   "execution_count": 3,
   "metadata": {},
   "outputs": [
    {
     "data": {
      "text/html": [
       "<div>\n",
       "<style scoped>\n",
       "    .dataframe tbody tr th:only-of-type {\n",
       "        vertical-align: middle;\n",
       "    }\n",
       "\n",
       "    .dataframe tbody tr th {\n",
       "        vertical-align: top;\n",
       "    }\n",
       "\n",
       "    .dataframe thead th {\n",
       "        text-align: right;\n",
       "    }\n",
       "</style>\n",
       "<table border=\"1\" class=\"dataframe\">\n",
       "  <thead>\n",
       "    <tr style=\"text-align: right;\">\n",
       "      <th></th>\n",
       "      <th>Sex</th>\n",
       "      <th>Length</th>\n",
       "      <th>Diameter</th>\n",
       "      <th>Height</th>\n",
       "      <th>Whole weight</th>\n",
       "      <th>Shucked weight</th>\n",
       "      <th>Viscera weight</th>\n",
       "      <th>Shell weight</th>\n",
       "      <th>Rings</th>\n",
       "      <th>generate column 1</th>\n",
       "      <th>generate column 2</th>\n",
       "      <th>generate column 3</th>\n",
       "      <th>generate column 4</th>\n",
       "    </tr>\n",
       "  </thead>\n",
       "  <tbody>\n",
       "    <tr>\n",
       "      <th>0</th>\n",
       "      <td>M</td>\n",
       "      <td>0.455</td>\n",
       "      <td>0.365</td>\n",
       "      <td>0.095</td>\n",
       "      <td>0.5140</td>\n",
       "      <td>0.2245</td>\n",
       "      <td>0.1010</td>\n",
       "      <td>0.150</td>\n",
       "      <td>15</td>\n",
       "      <td>-0.96</td>\n",
       "      <td>0.91</td>\n",
       "      <td>-0.36</td>\n",
       "      <td>-0.03</td>\n",
       "    </tr>\n",
       "    <tr>\n",
       "      <th>1</th>\n",
       "      <td>M</td>\n",
       "      <td>0.350</td>\n",
       "      <td>0.265</td>\n",
       "      <td>0.090</td>\n",
       "      <td>0.2255</td>\n",
       "      <td>0.0995</td>\n",
       "      <td>0.0485</td>\n",
       "      <td>0.070</td>\n",
       "      <td>7</td>\n",
       "      <td>0.39</td>\n",
       "      <td>-0.24</td>\n",
       "      <td>-1.21</td>\n",
       "      <td>-0.60</td>\n",
       "    </tr>\n",
       "    <tr>\n",
       "      <th>2</th>\n",
       "      <td>F</td>\n",
       "      <td>0.530</td>\n",
       "      <td>0.420</td>\n",
       "      <td>0.135</td>\n",
       "      <td>0.6770</td>\n",
       "      <td>0.2565</td>\n",
       "      <td>0.1415</td>\n",
       "      <td>0.210</td>\n",
       "      <td>9</td>\n",
       "      <td>0.38</td>\n",
       "      <td>-0.72</td>\n",
       "      <td>-1.75</td>\n",
       "      <td>-0.31</td>\n",
       "    </tr>\n",
       "    <tr>\n",
       "      <th>3</th>\n",
       "      <td>M</td>\n",
       "      <td>0.440</td>\n",
       "      <td>0.365</td>\n",
       "      <td>0.125</td>\n",
       "      <td>0.5160</td>\n",
       "      <td>0.2155</td>\n",
       "      <td>0.1140</td>\n",
       "      <td>0.155</td>\n",
       "      <td>10</td>\n",
       "      <td>0.65</td>\n",
       "      <td>0.21</td>\n",
       "      <td>0.02</td>\n",
       "      <td>1.69</td>\n",
       "    </tr>\n",
       "    <tr>\n",
       "      <th>4</th>\n",
       "      <td>I</td>\n",
       "      <td>0.330</td>\n",
       "      <td>0.255</td>\n",
       "      <td>0.080</td>\n",
       "      <td>0.2050</td>\n",
       "      <td>0.0895</td>\n",
       "      <td>0.0395</td>\n",
       "      <td>0.055</td>\n",
       "      <td>7</td>\n",
       "      <td>1.07</td>\n",
       "      <td>2.12</td>\n",
       "      <td>0.25</td>\n",
       "      <td>-1.61</td>\n",
       "    </tr>\n",
       "  </tbody>\n",
       "</table>\n",
       "</div>"
      ],
      "text/plain": [
       "  Sex  Length  Diameter  Height  Whole weight  Shucked weight  Viscera weight  \\\n",
       "0   M   0.455     0.365   0.095        0.5140          0.2245          0.1010   \n",
       "1   M   0.350     0.265   0.090        0.2255          0.0995          0.0485   \n",
       "2   F   0.530     0.420   0.135        0.6770          0.2565          0.1415   \n",
       "3   M   0.440     0.365   0.125        0.5160          0.2155          0.1140   \n",
       "4   I   0.330     0.255   0.080        0.2050          0.0895          0.0395   \n",
       "\n",
       "   Shell weight  Rings  generate column 1  generate column 2  \\\n",
       "0         0.150     15              -0.96               0.91   \n",
       "1         0.070      7               0.39              -0.24   \n",
       "2         0.210      9               0.38              -0.72   \n",
       "3         0.155     10               0.65               0.21   \n",
       "4         0.055      7               1.07               2.12   \n",
       "\n",
       "   generate column 3  generate column 4  \n",
       "0              -0.36              -0.03  \n",
       "1              -1.21              -0.60  \n",
       "2              -1.75              -0.31  \n",
       "3               0.02               1.69  \n",
       "4               0.25              -1.61  "
      ]
     },
     "execution_count": 3,
     "metadata": {},
     "output_type": "execute_result"
    }
   ],
   "source": [
    "dataframe.head()"
   ]
  },
  {
   "cell_type": "markdown",
   "metadata": {},
   "source": [
    "Gerar dataset com colunas seguindo distribuição normal...<br>\n",
    "ferramenta: https://www.socscistatistics.com/utilities/normaldistribution/default.aspx"
   ]
  },
  {
   "cell_type": "code",
   "execution_count": 4,
   "metadata": {},
   "outputs": [
    {
     "data": {
      "text/html": [
       "<div>\n",
       "<style scoped>\n",
       "    .dataframe tbody tr th:only-of-type {\n",
       "        vertical-align: middle;\n",
       "    }\n",
       "\n",
       "    .dataframe tbody tr th {\n",
       "        vertical-align: top;\n",
       "    }\n",
       "\n",
       "    .dataframe thead th {\n",
       "        text-align: right;\n",
       "    }\n",
       "</style>\n",
       "<table border=\"1\" class=\"dataframe\">\n",
       "  <thead>\n",
       "    <tr style=\"text-align: right;\">\n",
       "      <th></th>\n",
       "      <th>Length</th>\n",
       "      <th>Diameter</th>\n",
       "      <th>Height</th>\n",
       "      <th>Whole weight</th>\n",
       "      <th>Shucked weight</th>\n",
       "      <th>Viscera weight</th>\n",
       "      <th>Shell weight</th>\n",
       "      <th>Rings</th>\n",
       "      <th>generate column 1</th>\n",
       "      <th>generate column 2</th>\n",
       "      <th>generate column 3</th>\n",
       "      <th>generate column 4</th>\n",
       "    </tr>\n",
       "  </thead>\n",
       "  <tbody>\n",
       "    <tr>\n",
       "      <th>count</th>\n",
       "      <td>4177.000000</td>\n",
       "      <td>4177.000000</td>\n",
       "      <td>4177.000000</td>\n",
       "      <td>4177.000000</td>\n",
       "      <td>4177.000000</td>\n",
       "      <td>4177.000000</td>\n",
       "      <td>4177.000000</td>\n",
       "      <td>4177.000000</td>\n",
       "      <td>4177.000000</td>\n",
       "      <td>4177.000000</td>\n",
       "      <td>4177.000000</td>\n",
       "      <td>4177.000000</td>\n",
       "    </tr>\n",
       "    <tr>\n",
       "      <th>mean</th>\n",
       "      <td>0.523992</td>\n",
       "      <td>0.407881</td>\n",
       "      <td>0.139516</td>\n",
       "      <td>0.828742</td>\n",
       "      <td>0.359367</td>\n",
       "      <td>0.180594</td>\n",
       "      <td>0.238831</td>\n",
       "      <td>9.933684</td>\n",
       "      <td>0.011573</td>\n",
       "      <td>0.013495</td>\n",
       "      <td>-0.023591</td>\n",
       "      <td>0.002334</td>\n",
       "    </tr>\n",
       "    <tr>\n",
       "      <th>std</th>\n",
       "      <td>0.120093</td>\n",
       "      <td>0.099240</td>\n",
       "      <td>0.041827</td>\n",
       "      <td>0.490389</td>\n",
       "      <td>0.221963</td>\n",
       "      <td>0.109614</td>\n",
       "      <td>0.139203</td>\n",
       "      <td>3.224169</td>\n",
       "      <td>1.007581</td>\n",
       "      <td>1.000966</td>\n",
       "      <td>0.998935</td>\n",
       "      <td>0.998763</td>\n",
       "    </tr>\n",
       "    <tr>\n",
       "      <th>min</th>\n",
       "      <td>0.075000</td>\n",
       "      <td>0.055000</td>\n",
       "      <td>0.000000</td>\n",
       "      <td>0.002000</td>\n",
       "      <td>0.001000</td>\n",
       "      <td>0.000500</td>\n",
       "      <td>0.001500</td>\n",
       "      <td>1.000000</td>\n",
       "      <td>-4.070000</td>\n",
       "      <td>-4.230000</td>\n",
       "      <td>-3.090000</td>\n",
       "      <td>-3.240000</td>\n",
       "    </tr>\n",
       "    <tr>\n",
       "      <th>25%</th>\n",
       "      <td>0.450000</td>\n",
       "      <td>0.350000</td>\n",
       "      <td>0.115000</td>\n",
       "      <td>0.441500</td>\n",
       "      <td>0.186000</td>\n",
       "      <td>0.093500</td>\n",
       "      <td>0.130000</td>\n",
       "      <td>8.000000</td>\n",
       "      <td>-0.690000</td>\n",
       "      <td>-0.660000</td>\n",
       "      <td>-0.680000</td>\n",
       "      <td>-0.670000</td>\n",
       "    </tr>\n",
       "    <tr>\n",
       "      <th>50%</th>\n",
       "      <td>0.545000</td>\n",
       "      <td>0.425000</td>\n",
       "      <td>0.140000</td>\n",
       "      <td>0.799500</td>\n",
       "      <td>0.336000</td>\n",
       "      <td>0.171000</td>\n",
       "      <td>0.234000</td>\n",
       "      <td>9.000000</td>\n",
       "      <td>0.020000</td>\n",
       "      <td>0.000000</td>\n",
       "      <td>-0.010000</td>\n",
       "      <td>-0.010000</td>\n",
       "    </tr>\n",
       "    <tr>\n",
       "      <th>75%</th>\n",
       "      <td>0.615000</td>\n",
       "      <td>0.480000</td>\n",
       "      <td>0.165000</td>\n",
       "      <td>1.153000</td>\n",
       "      <td>0.502000</td>\n",
       "      <td>0.253000</td>\n",
       "      <td>0.329000</td>\n",
       "      <td>11.000000</td>\n",
       "      <td>0.700000</td>\n",
       "      <td>0.690000</td>\n",
       "      <td>0.640000</td>\n",
       "      <td>0.680000</td>\n",
       "    </tr>\n",
       "    <tr>\n",
       "      <th>max</th>\n",
       "      <td>0.815000</td>\n",
       "      <td>0.650000</td>\n",
       "      <td>1.130000</td>\n",
       "      <td>2.825500</td>\n",
       "      <td>1.488000</td>\n",
       "      <td>0.760000</td>\n",
       "      <td>1.005000</td>\n",
       "      <td>29.000000</td>\n",
       "      <td>3.540000</td>\n",
       "      <td>3.350000</td>\n",
       "      <td>3.840000</td>\n",
       "      <td>3.700000</td>\n",
       "    </tr>\n",
       "  </tbody>\n",
       "</table>\n",
       "</div>"
      ],
      "text/plain": [
       "            Length     Diameter       Height  Whole weight  Shucked weight  \\\n",
       "count  4177.000000  4177.000000  4177.000000   4177.000000     4177.000000   \n",
       "mean      0.523992     0.407881     0.139516      0.828742        0.359367   \n",
       "std       0.120093     0.099240     0.041827      0.490389        0.221963   \n",
       "min       0.075000     0.055000     0.000000      0.002000        0.001000   \n",
       "25%       0.450000     0.350000     0.115000      0.441500        0.186000   \n",
       "50%       0.545000     0.425000     0.140000      0.799500        0.336000   \n",
       "75%       0.615000     0.480000     0.165000      1.153000        0.502000   \n",
       "max       0.815000     0.650000     1.130000      2.825500        1.488000   \n",
       "\n",
       "       Viscera weight  Shell weight        Rings  generate column 1  \\\n",
       "count     4177.000000   4177.000000  4177.000000        4177.000000   \n",
       "mean         0.180594      0.238831     9.933684           0.011573   \n",
       "std          0.109614      0.139203     3.224169           1.007581   \n",
       "min          0.000500      0.001500     1.000000          -4.070000   \n",
       "25%          0.093500      0.130000     8.000000          -0.690000   \n",
       "50%          0.171000      0.234000     9.000000           0.020000   \n",
       "75%          0.253000      0.329000    11.000000           0.700000   \n",
       "max          0.760000      1.005000    29.000000           3.540000   \n",
       "\n",
       "       generate column 2  generate column 3  generate column 4  \n",
       "count        4177.000000        4177.000000        4177.000000  \n",
       "mean            0.013495          -0.023591           0.002334  \n",
       "std             1.000966           0.998935           0.998763  \n",
       "min            -4.230000          -3.090000          -3.240000  \n",
       "25%            -0.660000          -0.680000          -0.670000  \n",
       "50%             0.000000          -0.010000          -0.010000  \n",
       "75%             0.690000           0.640000           0.680000  \n",
       "max             3.350000           3.840000           3.700000  "
      ]
     },
     "execution_count": 4,
     "metadata": {},
     "output_type": "execute_result"
    }
   ],
   "source": [
    "dataframe.describe()"
   ]
  },
  {
   "cell_type": "code",
   "execution_count": 5,
   "metadata": {},
   "outputs": [],
   "source": [
    "freq = []\n",
    "for col in dataframe.columns:\n",
    "    if dataframe[col].dtypes == 'object':\n",
    "        freq.append(\"Elementos mais frequentes da coluna {}: {}\".format(col,dataframe[col].unique()))"
   ]
  },
  {
   "cell_type": "code",
   "execution_count": 6,
   "metadata": {},
   "outputs": [
    {
     "data": {
      "text/plain": [
       "[\"Elementos mais frequentes da coluna Sex: ['M' 'F' 'I']\"]"
      ]
     },
     "execution_count": 6,
     "metadata": {},
     "output_type": "execute_result"
    }
   ],
   "source": [
    "freq"
   ]
  },
  {
   "cell_type": "code",
   "execution_count": 7,
   "metadata": {},
   "outputs": [
    {
     "data": {
      "text/html": [
       "<div>\n",
       "<style scoped>\n",
       "    .dataframe tbody tr th:only-of-type {\n",
       "        vertical-align: middle;\n",
       "    }\n",
       "\n",
       "    .dataframe tbody tr th {\n",
       "        vertical-align: top;\n",
       "    }\n",
       "\n",
       "    .dataframe thead th {\n",
       "        text-align: right;\n",
       "    }\n",
       "</style>\n",
       "<table border=\"1\" class=\"dataframe\">\n",
       "  <thead>\n",
       "    <tr style=\"text-align: right;\">\n",
       "      <th></th>\n",
       "      <th>Sex</th>\n",
       "      <th>Length</th>\n",
       "      <th>Diameter</th>\n",
       "      <th>Height</th>\n",
       "      <th>Whole weight</th>\n",
       "      <th>Shucked weight</th>\n",
       "      <th>Viscera weight</th>\n",
       "      <th>Shell weight</th>\n",
       "      <th>Rings</th>\n",
       "      <th>generate column 1</th>\n",
       "      <th>generate column 2</th>\n",
       "      <th>generate column 3</th>\n",
       "      <th>generate column 4</th>\n",
       "    </tr>\n",
       "  </thead>\n",
       "  <tbody>\n",
       "    <tr>\n",
       "      <th>0</th>\n",
       "      <td>M</td>\n",
       "      <td>0.455</td>\n",
       "      <td>0.365</td>\n",
       "      <td>0.095</td>\n",
       "      <td>0.5140</td>\n",
       "      <td>0.2245</td>\n",
       "      <td>0.1010</td>\n",
       "      <td>0.150</td>\n",
       "      <td>15</td>\n",
       "      <td>-0.96</td>\n",
       "      <td>0.91</td>\n",
       "      <td>-0.36</td>\n",
       "      <td>-0.03</td>\n",
       "    </tr>\n",
       "    <tr>\n",
       "      <th>1</th>\n",
       "      <td>M</td>\n",
       "      <td>0.350</td>\n",
       "      <td>0.265</td>\n",
       "      <td>0.090</td>\n",
       "      <td>0.2255</td>\n",
       "      <td>0.0995</td>\n",
       "      <td>0.0485</td>\n",
       "      <td>0.070</td>\n",
       "      <td>7</td>\n",
       "      <td>0.39</td>\n",
       "      <td>-0.24</td>\n",
       "      <td>-1.21</td>\n",
       "      <td>-0.60</td>\n",
       "    </tr>\n",
       "    <tr>\n",
       "      <th>2</th>\n",
       "      <td>F</td>\n",
       "      <td>0.530</td>\n",
       "      <td>0.420</td>\n",
       "      <td>0.135</td>\n",
       "      <td>0.6770</td>\n",
       "      <td>0.2565</td>\n",
       "      <td>0.1415</td>\n",
       "      <td>0.210</td>\n",
       "      <td>9</td>\n",
       "      <td>0.38</td>\n",
       "      <td>-0.72</td>\n",
       "      <td>-1.75</td>\n",
       "      <td>-0.31</td>\n",
       "    </tr>\n",
       "    <tr>\n",
       "      <th>3</th>\n",
       "      <td>M</td>\n",
       "      <td>0.440</td>\n",
       "      <td>0.365</td>\n",
       "      <td>0.125</td>\n",
       "      <td>0.5160</td>\n",
       "      <td>0.2155</td>\n",
       "      <td>0.1140</td>\n",
       "      <td>0.155</td>\n",
       "      <td>10</td>\n",
       "      <td>0.65</td>\n",
       "      <td>0.21</td>\n",
       "      <td>0.02</td>\n",
       "      <td>1.69</td>\n",
       "    </tr>\n",
       "    <tr>\n",
       "      <th>4</th>\n",
       "      <td>I</td>\n",
       "      <td>0.330</td>\n",
       "      <td>0.255</td>\n",
       "      <td>0.080</td>\n",
       "      <td>0.2050</td>\n",
       "      <td>0.0895</td>\n",
       "      <td>0.0395</td>\n",
       "      <td>0.055</td>\n",
       "      <td>7</td>\n",
       "      <td>1.07</td>\n",
       "      <td>2.12</td>\n",
       "      <td>0.25</td>\n",
       "      <td>-1.61</td>\n",
       "    </tr>\n",
       "    <tr>\n",
       "      <th>5</th>\n",
       "      <td>I</td>\n",
       "      <td>0.425</td>\n",
       "      <td>0.300</td>\n",
       "      <td>0.095</td>\n",
       "      <td>0.3515</td>\n",
       "      <td>0.1410</td>\n",
       "      <td>0.0775</td>\n",
       "      <td>0.120</td>\n",
       "      <td>8</td>\n",
       "      <td>-0.58</td>\n",
       "      <td>-0.43</td>\n",
       "      <td>-0.58</td>\n",
       "      <td>-1.08</td>\n",
       "    </tr>\n",
       "    <tr>\n",
       "      <th>6</th>\n",
       "      <td>F</td>\n",
       "      <td>0.530</td>\n",
       "      <td>0.415</td>\n",
       "      <td>0.150</td>\n",
       "      <td>0.7775</td>\n",
       "      <td>0.2370</td>\n",
       "      <td>0.1415</td>\n",
       "      <td>0.330</td>\n",
       "      <td>20</td>\n",
       "      <td>-1.26</td>\n",
       "      <td>1.44</td>\n",
       "      <td>0.72</td>\n",
       "      <td>-0.30</td>\n",
       "    </tr>\n",
       "    <tr>\n",
       "      <th>7</th>\n",
       "      <td>F</td>\n",
       "      <td>0.545</td>\n",
       "      <td>0.425</td>\n",
       "      <td>0.125</td>\n",
       "      <td>0.7680</td>\n",
       "      <td>0.2940</td>\n",
       "      <td>0.1495</td>\n",
       "      <td>0.260</td>\n",
       "      <td>16</td>\n",
       "      <td>0.21</td>\n",
       "      <td>0.32</td>\n",
       "      <td>0.73</td>\n",
       "      <td>-1.13</td>\n",
       "    </tr>\n",
       "    <tr>\n",
       "      <th>8</th>\n",
       "      <td>M</td>\n",
       "      <td>0.475</td>\n",
       "      <td>0.370</td>\n",
       "      <td>0.125</td>\n",
       "      <td>0.5095</td>\n",
       "      <td>0.2165</td>\n",
       "      <td>0.1125</td>\n",
       "      <td>0.165</td>\n",
       "      <td>9</td>\n",
       "      <td>-0.89</td>\n",
       "      <td>-0.89</td>\n",
       "      <td>-1.08</td>\n",
       "      <td>-1.76</td>\n",
       "    </tr>\n",
       "    <tr>\n",
       "      <th>9</th>\n",
       "      <td>F</td>\n",
       "      <td>0.550</td>\n",
       "      <td>0.440</td>\n",
       "      <td>0.150</td>\n",
       "      <td>0.8945</td>\n",
       "      <td>0.3145</td>\n",
       "      <td>0.1510</td>\n",
       "      <td>0.320</td>\n",
       "      <td>19</td>\n",
       "      <td>1.56</td>\n",
       "      <td>-0.53</td>\n",
       "      <td>0.70</td>\n",
       "      <td>-0.89</td>\n",
       "    </tr>\n",
       "  </tbody>\n",
       "</table>\n",
       "</div>"
      ],
      "text/plain": [
       "  Sex  Length  Diameter  Height  Whole weight  Shucked weight  Viscera weight  \\\n",
       "0   M   0.455     0.365   0.095        0.5140          0.2245          0.1010   \n",
       "1   M   0.350     0.265   0.090        0.2255          0.0995          0.0485   \n",
       "2   F   0.530     0.420   0.135        0.6770          0.2565          0.1415   \n",
       "3   M   0.440     0.365   0.125        0.5160          0.2155          0.1140   \n",
       "4   I   0.330     0.255   0.080        0.2050          0.0895          0.0395   \n",
       "5   I   0.425     0.300   0.095        0.3515          0.1410          0.0775   \n",
       "6   F   0.530     0.415   0.150        0.7775          0.2370          0.1415   \n",
       "7   F   0.545     0.425   0.125        0.7680          0.2940          0.1495   \n",
       "8   M   0.475     0.370   0.125        0.5095          0.2165          0.1125   \n",
       "9   F   0.550     0.440   0.150        0.8945          0.3145          0.1510   \n",
       "\n",
       "   Shell weight  Rings  generate column 1  generate column 2  \\\n",
       "0         0.150     15              -0.96               0.91   \n",
       "1         0.070      7               0.39              -0.24   \n",
       "2         0.210      9               0.38              -0.72   \n",
       "3         0.155     10               0.65               0.21   \n",
       "4         0.055      7               1.07               2.12   \n",
       "5         0.120      8              -0.58              -0.43   \n",
       "6         0.330     20              -1.26               1.44   \n",
       "7         0.260     16               0.21               0.32   \n",
       "8         0.165      9              -0.89              -0.89   \n",
       "9         0.320     19               1.56              -0.53   \n",
       "\n",
       "   generate column 3  generate column 4  \n",
       "0              -0.36              -0.03  \n",
       "1              -1.21              -0.60  \n",
       "2              -1.75              -0.31  \n",
       "3               0.02               1.69  \n",
       "4               0.25              -1.61  \n",
       "5              -0.58              -1.08  \n",
       "6               0.72              -0.30  \n",
       "7               0.73              -1.13  \n",
       "8              -1.08              -1.76  \n",
       "9               0.70              -0.89  "
      ]
     },
     "execution_count": 7,
     "metadata": {},
     "output_type": "execute_result"
    }
   ],
   "source": [
    "dataframe.head(10)"
   ]
  },
  {
   "cell_type": "code",
   "execution_count": 8,
   "metadata": {},
   "outputs": [
    {
     "name": "stdout",
     "output_type": "stream",
     "text": [
      "<class 'pandas.core.frame.DataFrame'>\n",
      "RangeIndex: 4177 entries, 0 to 4176\n",
      "Data columns (total 13 columns):\n",
      " #   Column             Non-Null Count  Dtype  \n",
      "---  ------             --------------  -----  \n",
      " 0   Sex                4177 non-null   object \n",
      " 1   Length             4177 non-null   float64\n",
      " 2   Diameter           4177 non-null   float64\n",
      " 3   Height             4177 non-null   float64\n",
      " 4   Whole weight       4177 non-null   float64\n",
      " 5   Shucked weight     4177 non-null   float64\n",
      " 6   Viscera weight     4177 non-null   float64\n",
      " 7   Shell weight       4177 non-null   float64\n",
      " 8   Rings              4177 non-null   int64  \n",
      " 9   generate column 1  4177 non-null   float64\n",
      " 10  generate column 2  4177 non-null   float64\n",
      " 11  generate column 3  4177 non-null   float64\n",
      " 12  generate column 4  4177 non-null   float64\n",
      "dtypes: float64(11), int64(1), object(1)\n",
      "memory usage: 424.4+ KB\n"
     ]
    }
   ],
   "source": [
    "dataframe.info()"
   ]
  },
  {
   "cell_type": "markdown",
   "metadata": {},
   "source": [
    "------------------------------------"
   ]
  },
  {
   "cell_type": "code",
   "execution_count": 9,
   "metadata": {},
   "outputs": [
    {
     "data": {
      "text/plain": [
       "Sex                   object\n",
       "Length               float64\n",
       "Diameter             float64\n",
       "Height               float64\n",
       "Whole weight         float64\n",
       "Shucked weight       float64\n",
       "Viscera weight       float64\n",
       "Shell weight         float64\n",
       "Rings                  int64\n",
       "generate column 1    float64\n",
       "generate column 2    float64\n",
       "generate column 3    float64\n",
       "generate column 4    float64\n",
       "dtype: object"
      ]
     },
     "execution_count": 9,
     "metadata": {},
     "output_type": "execute_result"
    }
   ],
   "source": [
    "# Verificação de tipos\n",
    "dataframe.dtypes"
   ]
  },
  {
   "cell_type": "code",
   "execution_count": 10,
   "metadata": {},
   "outputs": [
    {
     "name": "stdout",
     "output_type": "stream",
     "text": [
      "Column Sex is not userfull\n",
      "Column Length userfull\n",
      "Column Diameter userfull\n",
      "Column Height userfull\n",
      "Column Whole weight userfull\n",
      "Column Shucked weight userfull\n",
      "Column Viscera weight userfull\n",
      "Column Shell weight userfull\n",
      "Column Rings userfull\n",
      "Column generate column 1 userfull\n",
      "Column generate column 2 userfull\n",
      "Column generate column 3 userfull\n",
      "Column generate column 4 userfull\n"
     ]
    }
   ],
   "source": [
    "# Iremos trabalhar com as colunas de dados que apresentarem os tipos int64 e float64\n",
    "# Demais tipos de dados ficarão para trabalhos futuros\n",
    "dataset = dataframe\n",
    "for col in dataset.columns:\n",
    "    if dataset[col].dtypes == 'float64' or dataset[col].dtypes == 'int64' :\n",
    "        print(\"Column {} userfull\".format(col))\n",
    "    else:\n",
    "        print(\"Column {} is not userfull\".format(col))\n",
    "        dataset = dataset.drop( columns = [col])"
   ]
  },
  {
   "cell_type": "code",
   "execution_count": 11,
   "metadata": {},
   "outputs": [
    {
     "data": {
      "text/html": [
       "<div>\n",
       "<style scoped>\n",
       "    .dataframe tbody tr th:only-of-type {\n",
       "        vertical-align: middle;\n",
       "    }\n",
       "\n",
       "    .dataframe tbody tr th {\n",
       "        vertical-align: top;\n",
       "    }\n",
       "\n",
       "    .dataframe thead th {\n",
       "        text-align: right;\n",
       "    }\n",
       "</style>\n",
       "<table border=\"1\" class=\"dataframe\">\n",
       "  <thead>\n",
       "    <tr style=\"text-align: right;\">\n",
       "      <th></th>\n",
       "      <th>Length</th>\n",
       "      <th>Diameter</th>\n",
       "      <th>Height</th>\n",
       "      <th>Whole weight</th>\n",
       "      <th>Shucked weight</th>\n",
       "      <th>Viscera weight</th>\n",
       "      <th>Shell weight</th>\n",
       "      <th>Rings</th>\n",
       "      <th>generate column 1</th>\n",
       "      <th>generate column 2</th>\n",
       "      <th>generate column 3</th>\n",
       "      <th>generate column 4</th>\n",
       "    </tr>\n",
       "  </thead>\n",
       "  <tbody>\n",
       "    <tr>\n",
       "      <th>0</th>\n",
       "      <td>0.455</td>\n",
       "      <td>0.365</td>\n",
       "      <td>0.095</td>\n",
       "      <td>0.5140</td>\n",
       "      <td>0.2245</td>\n",
       "      <td>0.1010</td>\n",
       "      <td>0.150</td>\n",
       "      <td>15</td>\n",
       "      <td>-0.96</td>\n",
       "      <td>0.91</td>\n",
       "      <td>-0.36</td>\n",
       "      <td>-0.03</td>\n",
       "    </tr>\n",
       "    <tr>\n",
       "      <th>1</th>\n",
       "      <td>0.350</td>\n",
       "      <td>0.265</td>\n",
       "      <td>0.090</td>\n",
       "      <td>0.2255</td>\n",
       "      <td>0.0995</td>\n",
       "      <td>0.0485</td>\n",
       "      <td>0.070</td>\n",
       "      <td>7</td>\n",
       "      <td>0.39</td>\n",
       "      <td>-0.24</td>\n",
       "      <td>-1.21</td>\n",
       "      <td>-0.60</td>\n",
       "    </tr>\n",
       "    <tr>\n",
       "      <th>2</th>\n",
       "      <td>0.530</td>\n",
       "      <td>0.420</td>\n",
       "      <td>0.135</td>\n",
       "      <td>0.6770</td>\n",
       "      <td>0.2565</td>\n",
       "      <td>0.1415</td>\n",
       "      <td>0.210</td>\n",
       "      <td>9</td>\n",
       "      <td>0.38</td>\n",
       "      <td>-0.72</td>\n",
       "      <td>-1.75</td>\n",
       "      <td>-0.31</td>\n",
       "    </tr>\n",
       "    <tr>\n",
       "      <th>3</th>\n",
       "      <td>0.440</td>\n",
       "      <td>0.365</td>\n",
       "      <td>0.125</td>\n",
       "      <td>0.5160</td>\n",
       "      <td>0.2155</td>\n",
       "      <td>0.1140</td>\n",
       "      <td>0.155</td>\n",
       "      <td>10</td>\n",
       "      <td>0.65</td>\n",
       "      <td>0.21</td>\n",
       "      <td>0.02</td>\n",
       "      <td>1.69</td>\n",
       "    </tr>\n",
       "    <tr>\n",
       "      <th>4</th>\n",
       "      <td>0.330</td>\n",
       "      <td>0.255</td>\n",
       "      <td>0.080</td>\n",
       "      <td>0.2050</td>\n",
       "      <td>0.0895</td>\n",
       "      <td>0.0395</td>\n",
       "      <td>0.055</td>\n",
       "      <td>7</td>\n",
       "      <td>1.07</td>\n",
       "      <td>2.12</td>\n",
       "      <td>0.25</td>\n",
       "      <td>-1.61</td>\n",
       "    </tr>\n",
       "  </tbody>\n",
       "</table>\n",
       "</div>"
      ],
      "text/plain": [
       "   Length  Diameter  Height  Whole weight  Shucked weight  Viscera weight  \\\n",
       "0   0.455     0.365   0.095        0.5140          0.2245          0.1010   \n",
       "1   0.350     0.265   0.090        0.2255          0.0995          0.0485   \n",
       "2   0.530     0.420   0.135        0.6770          0.2565          0.1415   \n",
       "3   0.440     0.365   0.125        0.5160          0.2155          0.1140   \n",
       "4   0.330     0.255   0.080        0.2050          0.0895          0.0395   \n",
       "\n",
       "   Shell weight  Rings  generate column 1  generate column 2  \\\n",
       "0         0.150     15              -0.96               0.91   \n",
       "1         0.070      7               0.39              -0.24   \n",
       "2         0.210      9               0.38              -0.72   \n",
       "3         0.155     10               0.65               0.21   \n",
       "4         0.055      7               1.07               2.12   \n",
       "\n",
       "   generate column 3  generate column 4  \n",
       "0              -0.36              -0.03  \n",
       "1              -1.21              -0.60  \n",
       "2              -1.75              -0.31  \n",
       "3               0.02               1.69  \n",
       "4               0.25              -1.61  "
      ]
     },
     "execution_count": 11,
     "metadata": {},
     "output_type": "execute_result"
    }
   ],
   "source": [
    "dataset.head()"
   ]
  },
  {
   "cell_type": "markdown",
   "metadata": {},
   "source": [
    "---------------------------------------------------------"
   ]
  },
  {
   "cell_type": "code",
   "execution_count": 12,
   "metadata": {},
   "outputs": [],
   "source": [
    "df_columns = list(dataset.columns)"
   ]
  },
  {
   "cell_type": "code",
   "execution_count": 13,
   "metadata": {},
   "outputs": [
    {
     "data": {
      "text/plain": [
       "'OK'"
      ]
     },
     "execution_count": 13,
     "metadata": {},
     "output_type": "execute_result"
    }
   ],
   "source": [
    "Y_choiced = easygui.buttonbox(\"Qual coluna será seu Y ? Dica: Em alguns dataset's a coluna rotulada é a última muitas vezes.\",title = \"Escolher-Y\", choices = df_columns )\n",
    "easygui.msgbox (\"Você escolheu coluna: \" + Y_choiced)"
   ]
  },
  {
   "cell_type": "code",
   "execution_count": 14,
   "metadata": {},
   "outputs": [],
   "source": [
    "aux = dataset\n",
    "dataset = dataset.drop(columns = [Y_choiced])\n",
    "labels = aux[[Y_choiced]]"
   ]
  },
  {
   "cell_type": "markdown",
   "metadata": {},
   "source": [
    "------------------------------------------------------------------------------------------------"
   ]
  },
  {
   "cell_type": "markdown",
   "metadata": {},
   "source": [
    "### Visualizações"
   ]
  },
  {
   "cell_type": "code",
   "execution_count": 15,
   "metadata": {},
   "outputs": [],
   "source": [
    "# Visualizar dataset\n",
    "# for col in dataset.columns:\n",
    "#     hist = dataset[col].hist(bins=10)\n",
    "#     print(\"Plotting for column {}\".format(col))\n",
    "#     plt.show()"
   ]
  },
  {
   "cell_type": "code",
   "execution_count": 16,
   "metadata": {},
   "outputs": [
    {
     "data": {
      "image/png": "[encoded data removed]",
      "text/plain": [
       "<Figure size 432x288 with 1 Axes>"
      ]
     },
     "metadata": {
      "needs_background": "light"
     },
     "output_type": "display_data"
    },
    {
     "data": {
      "image/png": "[encoded data removed]",
      "text/plain": [
       "<Figure size 432x288 with 1 Axes>"
      ]
     },
     "metadata": {
      "needs_background": "light"
     },
     "output_type": "display_data"
    },
    {
     "data": {
      "image/png": "[encoded data removed]",
      "text/plain": [
       "<Figure size 432x288 with 1 Axes>"
      ]
     },
     "metadata": {
      "needs_background": "light"
     },
     "output_type": "display_data"
    },
    {
     "data": {
      "image/png": "[encoded data removed]",
      "text/plain": [
       "<Figure size 432x288 with 1 Axes>"
      ]
     },
     "metadata": {
      "needs_background": "light"
     },
     "output_type": "display_data"
    },
    {
     "data": {
      "image/png": "[encoded data removed]",
      "text/plain": [
       "<Figure size 432x288 with 1 Axes>"
      ]
     },
     "metadata": {
      "needs_background": "light"
     },
     "output_type": "display_data"
    },
    {
     "data": {
      "image/png": "[encoded data removed]",
      "text/plain": [
       "<Figure size 432x288 with 1 Axes>"
      ]
     },
     "metadata": {
      "needs_background": "light"
     },
     "output_type": "display_data"
    },
    {
     "data": {
      "image/png": "[encoded data removed]",
      "text/plain": [
       "<Figure size 432x288 with 1 Axes>"
      ]
     },
     "metadata": {
      "needs_background": "light"
     },
     "output_type": "display_data"
    },
    {
     "data": {
      "image/png": "[encoded data removed]",
      "text/plain": [
       "<Figure size 432x288 with 1 Axes>"
      ]
     },
     "metadata": {
      "needs_background": "light"
     },
     "output_type": "display_data"
    },
    {
     "data": {
      "image/png": "[encoded data removed]",
      "text/plain": [
       "<Figure size 432x288 with 1 Axes>"
      ]
     },
     "metadata": {
      "needs_background": "light"
     },
     "output_type": "display_data"
    },
    {
     "data": {
      "image/png": "[encoded data removed]",
      "text/plain": [
       "<Figure size 432x288 with 1 Axes>"
      ]
     },
     "metadata": {
      "needs_background": "light"
     },
     "output_type": "display_data"
    },
    {
     "data": {
      "image/png": "[encoded data removed]",
      "text/plain": [
       "<Figure size 432x288 with 1 Axes>"
      ]
     },
     "metadata": {
      "needs_background": "light"
     },
     "output_type": "display_data"
    }
   ],
   "source": [
    "for col in dataset.columns:\n",
    "    if dataset[col].dtypes =='float64'or dataset[col].dtypes =='int64':\n",
    "        plt.figure()\n",
    "        sns.kdeplot(dataset[col])"
   ]
  },
  {
   "cell_type": "code",
   "execution_count": 17,
   "metadata": {},
   "outputs": [
    {
     "data": {
      "image/png": "[encoded data removed]",
      "text/plain": [
       "<Figure size 1296x720 with 1 Axes>"
      ]
     },
     "metadata": {
      "needs_background": "light"
     },
     "output_type": "display_data"
    }
   ],
   "source": [
    "boxplot = dataset.boxplot(list(dataset.columns),figsize = (18,10))"
   ]
  },
  {
   "cell_type": "code",
   "execution_count": 18,
   "metadata": {},
   "outputs": [],
   "source": [
    "# ## usando QQPLOT\n",
    "# ## Infelizmente se comporta como mais uma ferramenta gráfica, pois o único parâmetro retornado é uma figura...\n",
    "\n",
    "# from statsmodels.graphics.gofplots import qqplot\n",
    "\n",
    "\n",
    "# for col in dataset.columns:\n",
    "#     qqplot(z_dataset[col], line='s')\n",
    "#     plt.title(\"{}\".format(col))\n",
    "#     plt.show()"
   ]
  },
  {
   "cell_type": "markdown",
   "metadata": {},
   "source": [
    "----------------------"
   ]
  },
  {
   "cell_type": "markdown",
   "metadata": {},
   "source": [
    "### Teste de  Kolmogorov-Smirnov\n",
    "https://docs.scipy.org/doc/scipy/reference/generated/scipy.stats.kstest.html#scipy.stats.kstest"
   ]
  },
  {
   "cell_type": "code",
   "execution_count": 19,
   "metadata": {},
   "outputs": [],
   "source": [
    "### Ideia para usar o Terste de kolmogorov smirnov"
   ]
  },
  {
   "cell_type": "markdown",
   "metadata": {},
   "source": [
    "Que eu saiba, não existe uma maneira automática de obter o tipo de distribuição e os parâmetros de uma amostra (pois inferir que a distribuição de uma amostra é um problema estatístico por si só).\n",
    "\n",
    "Na minha opinião, o melhor que você pode fazer é:\n",
    "\n",
    "(para cada atributo)\n",
    "\n",
    "Tente ajustar cada atributo a uma lista razoavelmente grande de possíveis distribuições (por exemplo, consulte Ajustando a distribuição empírica às teóricas com Scipy (Python)? Para obter um exemplo com Scipy)\n",
    "\n",
    "Avalie todos os seus ajustes e escolha o melhor. Isso pode ser feito executando um teste de Kolmogorov-Smirnov entre sua amostra e cada uma das distribuições do ajuste (você tem uma implementação no Scipy, novamente) e escolhendo aquele que minimiza D, a estatística de teste (também conhecida como diferença entre os amostra e o ajuste).\n",
    "\n",
    "Bônus: faria sentido - pois você criará um modelo para cada uma das variáveis ​​e escolherá um ajuste para cada uma - embora a qualidade de sua previsão dependa da qualidade de seus dados e das distribuições usadas para apropriado. Você está construindo um modelo, afinal.\n",
    "\n",
    "#[\"norm\",\"gamma\",\"expon\",\"uniform\",\"logistic\", \"invgauss\" ,\"chi2\", \"burr\", \"beta\", \"alpha\",\"exponweib\", \"weibull_max\", \"weibull_min\", \"pareto\", \"genextreme\"]\n",
    "  \n",
    "\n",
    "link: https://stackoverflow.com/questions/37487830/how-to-find-probability-distribution-and-parameters-for-real-data-python-3"
   ]
  },
  {
   "cell_type": "code",
   "execution_count": 20,
   "metadata": {},
   "outputs": [],
   "source": [
    "def get_best_distribution(data):\n",
    "    dist_names = [\"alpha\", \"anglit\", \"arcsine\", \"argus\", \"beta\", \"betaprime\", \"bradford\", \"burr\", \"burr12\", \n",
    "                  \"cauchy\", \"chi\",\"chi2\",\"cosine\",\"crystalball\", \"dgamma\", \"dweibull\", \"erlang\", \"expon\", \n",
    "                  \"exponnorm\",\"exponweib\", \"exponpow\", \"f\", \"fatiguelife\", \"fisk\", \"foldcauchy\", \"foldnorm\", \n",
    "                  \"frechet_r\", \"frechet_l\", \"genlogistic\", \"gennorm\", \"genpareto\", \"genexpon\", \"genextreme\",\n",
    "                  \"gausshyper\", \"gamma\", \"gengamma\", \"genhalflogistic\", \"gilbrat\", \"gompertz\", \n",
    "                  \"gumbel_r\", \"gumbel_l\", \"halfcauchy\", \"halflogistic\", \"halfnorm\", \"halfgennorm\", \"hypsecant\", \n",
    "                  \"invgamma\", \"invweibull\", \"johnsonsb\", \"johnsonsu\", \"kappa4\", \"kappa3\", \"ksone\", \n",
    "                  \"kstwobign\", \"laplace\", \"levy\", \"levy_l\", \"logistic\", \"loggamma\", \"loglaplace\",\n",
    "                  \"lognorm\", \"loguniform\", \"lomax\", \"maxwell\", \"mielke\", \"moyal\", \"nakagami\", \"ncx2\",\"ncf\",\n",
    "                  \"norm\", \"pareto\", \"pearson3\", \"powerlaw\", \"powerlognorm\", \"powernorm\",\"rdist\", \n",
    "                  \"rayleigh\", \"rice\", \"semicircular\", \"skewnorm\", \"t\", \"trapz\", \"triang\",\n",
    "                  \"truncexpon\", \"uniform\", \"vonmises\", \"vonmises_line\", \"wald\", \"weibull_min\",\n",
    "                  \"weibull_max\", \"wrapcauchy\"]\n",
    "    dist_results = []\n",
    "    params = {}\n",
    "    for dist_name in dist_names:\n",
    "        dist = getattr(st, dist_name)\n",
    "        param = dist.fit(data)\n",
    "\n",
    "        params[dist_name] = param\n",
    "        # Applying the Kolmogorov-Smirnov test\n",
    "        D, p = st.kstest(data, dist_name, args=param)\n",
    "#         print(\"p value for \"+dist_name+\" = \"+str(p))\n",
    "        dist_results.append((dist_name, p))\n",
    "\n",
    "    # select the best fitted distribution\n",
    "    best_dist, best_p = (max(dist_results, key=lambda item: item[1]))\n",
    "    # store the name of the best fit and its p value\n",
    "\n",
    "    print(\"Best fitting distribution: \"+str(best_dist))\n",
    "    print(\"Best p value: \"+ str(best_p))\n",
    "    print(\"Parameters for the best fit: \"+ str(params[best_dist]))\n",
    "\n",
    "    return best_dist, best_p, params[best_dist]"
   ]
  },
  {
   "cell_type": "markdown",
   "metadata": {},
   "source": [
    "Lista de todas as distribuições contínuas do scipy: https://docs.scipy.org/doc/scipy/reference/tutorial/stats/continuous.html<br>\n",
    "P-valeu: https://en.wikipedia.org/wiki/P-value"
   ]
  },
  {
   "cell_type": "code",
   "execution_count": null,
   "metadata": {},
   "outputs": [
    {
     "name": "stdout",
     "output_type": "stream",
     "text": [
      "-------------- Length -------------\n",
      "Best fitting distribution: skewnorm\n",
      "Best p value: 0.08967356470909324\n",
      "Parameters for the best fit: (-3.6341758936423374, 0.6694949439652567, 0.18865269758422964)\n",
      "----------------------------------\n",
      "-------------- Diameter -------------\n",
      "Best fitting distribution: burr\n",
      "Best p value: 0.09262049180006258\n",
      "Parameters for the best fit: (21.40433910878557, 0.13961365622607871, 0.041950596311078364, 0.48236049600533665)\n",
      "----------------------------------\n",
      "-------------- Height -------------\n",
      "Best fitting distribution: burr\n",
      "Best p value: 1.704759330190796e-05\n",
      "Parameters for the best fit: (12.860310742015425, 0.26797292652866617, -0.007052355768943315, 0.18223001006934036)\n",
      "----------------------------------\n",
      "-------------- Whole weight -------------\n",
      "Best fitting distribution: mielke\n",
      "Best p value: 0.3599775421450794\n",
      "Parameters for the best fit: (1.1945755620489997, 6.734769753416561, 0.001847626868732472, 1.423543237171593)\n",
      "----------------------------------\n",
      "-------------- Shucked weight -------------\n",
      "Best fitting distribution: mielke\n",
      "Best p value: 0.2710770302085608\n",
      "Parameters for the best fit: (1.1666425185326041, 6.110810320863873, 0.0009471221675081588, 0.615305462559811)\n",
      "----------------------------------\n",
      "-------------- Viscera weight -------------\n",
      "Best fitting distribution: exponweib\n",
      "Best p value: 0.37817223816545253\n",
      "Parameters for the best fit: (0.523858963484466, 2.4698858134249884, 0.0003618869881089517, 0.2681082305617192)\n",
      "----------------------------------\n",
      "-------------- Shell weight -------------\n",
      "Best fitting distribution: mielke\n",
      "Best p value: 0.3460828451382968\n",
      "Parameters for the best fit: (1.2397119077630632, 6.534658450522036, 0.001428042771010725, 0.3981826226254768)\n",
      "----------------------------------\n",
      "-------------- generate column 1 -------------\n",
      "Best fitting distribution: norm\n",
      "Best p value: 0.8548110099221272\n",
      "Parameters for the best fit: (0.0115728992099593, 1.007460768663249)\n",
      "----------------------------------\n",
      "-------------- generate column 2 -------------\n",
      "Best fitting distribution: chi\n",
      "Best p value: 0.8381396781837569\n",
      "Parameters for the best fit: (112.18937919829915, -14.976501972652784, 1.4185318247909722)\n",
      "----------------------------------\n",
      "-------------- generate column 3 -------------\n",
      "Best fitting distribution: burr12\n",
      "Best p value: 0.8159378837993413\n",
      "Parameters for the best fit: (4.764304398924649, 6.842178083976274, -3.9468179199334523, 6.292974467093073)\n",
      "----------------------------------\n",
      "-------------- generate column 4 -------------\n"
     ]
    }
   ],
   "source": [
    "for col in dataset.columns:\n",
    "    print(\"-------------- {} -------------\".format(col))\n",
    "    get_best_distribution(dataset[col])\n",
    "    print(\"----------------------------------\")"
   ]
  },
  {
   "cell_type": "markdown",
   "metadata": {},
   "source": [
    "Distribuição mais encontrada: burr https://en.wikipedia.org/wiki/Burr_distribution\n",
    "tentar entende-la depois"
   ]
  },
  {
   "cell_type": "markdown",
   "metadata": {},
   "source": [
    "---------------------------------------"
   ]
  },
  {
   "cell_type": "markdown",
   "metadata": {},
   "source": [
    "### Seção reservada ao Anderson-Darling test, Shapiro-Wilk Test, D'Agostino's K^2 test"
   ]
  },
  {
   "cell_type": "markdown",
   "metadata": {},
   "source": [
    "https://machinelearningmastery.com/a-gentle-introduction-to-normality-tests-in-python/<br>\n",
    "https://medium.com/@rrfd/testing-for-normality-applications-with-python-6bf06ed646a9<br>\n",
    "http://www.portalaction.com.br/inferencia/testes-de-normalidade<br>\n",
    "https://machinelearningmastery.com/a-gentle-introduction-to-normality-tests-in-python/"
   ]
  },
  {
   "cell_type": "markdown",
   "metadata": {},
   "source": [
    "### Anderson test\n",
    "O Anderson-Darling testa a hipótese nula de que uma amostra é retirada de uma população que segue uma distribuição específica.Porém só funciona para normal, exponencial, logística e Gumbel.<br>\n",
    "https://docs.scipy.org/doc/scipy/reference/generated/scipy.stats.anderson.html#scipy.stats.anderson"
   ]
  },
  {
   "cell_type": "code",
   "execution_count": 22,
   "metadata": {},
   "outputs": [],
   "source": [
    "import scipy.stats as st\n",
    "def anderson_test(data):\n",
    "    result = st.anderson(data)\n",
    "    print('Statistic: %.3f' % result.statistic)\n",
    "    p = 0\n",
    "    for i in range(len(result.critical_values)):\n",
    "        sl, cv = result.significance_level[i], result.critical_values[i]\n",
    "        if result.statistic < result.critical_values[i]:\n",
    "            print('%.3f: %.3f, data looks normal (fail to reject H0)' % (sl, cv))\n",
    "        else:\n",
    "            print('%.3f: %.3f, data does not look normal (reject H0)' % (sl, cv))"
   ]
  },
  {
   "cell_type": "code",
   "execution_count": 23,
   "metadata": {},
   "outputs": [
    {
     "name": "stdout",
     "output_type": "stream",
     "text": [
      "-------------- Length -------------\n",
      "Statistic: 36.621\n",
      "15.000: 0.575, data does not look normal (reject H0)\n",
      "10.000: 0.655, data does not look normal (reject H0)\n",
      "5.000: 0.786, data does not look normal (reject H0)\n",
      "2.500: 0.917, data does not look normal (reject H0)\n",
      "1.000: 1.091, data does not look normal (reject H0)\n",
      "----------------------------------\n",
      "-------------- Diameter -------------\n",
      "Statistic: 36.438\n",
      "15.000: 0.575, data does not look normal (reject H0)\n",
      "10.000: 0.655, data does not look normal (reject H0)\n",
      "5.000: 0.786, data does not look normal (reject H0)\n",
      "2.500: 0.917, data does not look normal (reject H0)\n",
      "1.000: 1.091, data does not look normal (reject H0)\n",
      "----------------------------------\n",
      "-------------- Height -------------\n",
      "Statistic: 14.493\n",
      "15.000: 0.575, data does not look normal (reject H0)\n",
      "10.000: 0.655, data does not look normal (reject H0)\n",
      "5.000: 0.786, data does not look normal (reject H0)\n",
      "2.500: 0.917, data does not look normal (reject H0)\n",
      "1.000: 1.091, data does not look normal (reject H0)\n",
      "----------------------------------\n",
      "-------------- Whole weight -------------\n",
      "Statistic: 20.993\n",
      "15.000: 0.575, data does not look normal (reject H0)\n",
      "10.000: 0.655, data does not look normal (reject H0)\n",
      "5.000: 0.786, data does not look normal (reject H0)\n",
      "2.500: 0.917, data does not look normal (reject H0)\n",
      "1.000: 1.091, data does not look normal (reject H0)\n",
      "----------------------------------\n",
      "-------------- Shucked weight -------------\n",
      "Statistic: 27.229\n",
      "15.000: 0.575, data does not look normal (reject H0)\n",
      "10.000: 0.655, data does not look normal (reject H0)\n",
      "5.000: 0.786, data does not look normal (reject H0)\n",
      "2.500: 0.917, data does not look normal (reject H0)\n",
      "1.000: 1.091, data does not look normal (reject H0)\n",
      "----------------------------------\n",
      "-------------- Viscera weight -------------\n",
      "Statistic: 25.711\n",
      "15.000: 0.575, data does not look normal (reject H0)\n",
      "10.000: 0.655, data does not look normal (reject H0)\n",
      "5.000: 0.786, data does not look normal (reject H0)\n",
      "2.500: 0.917, data does not look normal (reject H0)\n",
      "1.000: 1.091, data does not look normal (reject H0)\n",
      "----------------------------------\n",
      "-------------- Shell weight -------------\n",
      "Statistic: 18.561\n",
      "15.000: 0.575, data does not look normal (reject H0)\n",
      "10.000: 0.655, data does not look normal (reject H0)\n",
      "5.000: 0.786, data does not look normal (reject H0)\n",
      "2.500: 0.917, data does not look normal (reject H0)\n",
      "1.000: 1.091, data does not look normal (reject H0)\n",
      "----------------------------------\n",
      "-------------- generate_column1 -------------\n",
      "Statistic: 0.250\n",
      "15.000: 0.575, data looks normal (fail to reject H0)\n",
      "10.000: 0.655, data looks normal (fail to reject H0)\n",
      "5.000: 0.786, data looks normal (fail to reject H0)\n",
      "2.500: 0.917, data looks normal (fail to reject H0)\n",
      "1.000: 1.091, data looks normal (fail to reject H0)\n",
      "----------------------------------\n",
      "-------------- generate_column2 -------------\n",
      "Statistic: 0.582\n",
      "15.000: 0.575, data does not look normal (reject H0)\n",
      "10.000: 0.655, data looks normal (fail to reject H0)\n",
      "5.000: 0.786, data looks normal (fail to reject H0)\n",
      "2.500: 0.917, data looks normal (fail to reject H0)\n",
      "1.000: 1.091, data looks normal (fail to reject H0)\n",
      "----------------------------------\n",
      "-------------- generate_column3 -------------\n",
      "Statistic: 0.354\n",
      "15.000: 0.575, data looks normal (fail to reject H0)\n",
      "10.000: 0.655, data looks normal (fail to reject H0)\n",
      "5.000: 0.786, data looks normal (fail to reject H0)\n",
      "2.500: 0.917, data looks normal (fail to reject H0)\n",
      "1.000: 1.091, data looks normal (fail to reject H0)\n",
      "----------------------------------\n",
      "-------------- generate_column4 -------------\n",
      "Statistic: 0.458\n",
      "15.000: 0.575, data looks normal (fail to reject H0)\n",
      "10.000: 0.655, data looks normal (fail to reject H0)\n",
      "5.000: 0.786, data looks normal (fail to reject H0)\n",
      "2.500: 0.917, data looks normal (fail to reject H0)\n",
      "1.000: 1.091, data looks normal (fail to reject H0)\n",
      "----------------------------------\n"
     ]
    }
   ],
   "source": [
    "for col in dataset.columns:\n",
    "    print(\"-------------- {} -------------\".format(col))\n",
    "    anderson_test(dataset[col])\n",
    "    print(\"----------------------------------\")"
   ]
  },
  {
   "cell_type": "markdown",
   "metadata": {},
   "source": [
    "------------------------------------------------------------"
   ]
  },
  {
   "cell_type": "markdown",
   "metadata": {},
   "source": [
    "### Shapiro-Wilk test\n",
    "\n",
    "funciona somente para distribuição normal, segundo a definição.\n",
    "https://docs.scipy.org/doc/scipy/reference/generated/scipy.stats.shapiro.html"
   ]
  },
  {
   "cell_type": "code",
   "execution_count": 24,
   "metadata": {},
   "outputs": [],
   "source": [
    "import scipy.stats as st\n",
    "def shapiro_test(data):\n",
    "    D,p = st.shapiro(data)\n",
    "    alpha = 0.05\n",
    "    \n",
    "    if p > alpha:\n",
    "        print('Sample looks Gaussian (fail to reject H0)')\n",
    "    else:\n",
    "        print('Sample does not look Gaussian (reject H0)')\n",
    "    \n",
    "    return p"
   ]
  },
  {
   "cell_type": "code",
   "execution_count": 25,
   "metadata": {},
   "outputs": [
    {
     "name": "stdout",
     "output_type": "stream",
     "text": [
      "-------------- Length -------------\n",
      "Sample does not look Gaussian (reject H0)\n",
      "----------------------------------\n",
      "-------------- Diameter -------------\n",
      "Sample does not look Gaussian (reject H0)\n",
      "----------------------------------\n",
      "-------------- Height -------------\n",
      "Sample does not look Gaussian (reject H0)\n",
      "----------------------------------\n",
      "-------------- Whole weight -------------\n",
      "Sample does not look Gaussian (reject H0)\n",
      "----------------------------------\n",
      "-------------- Shucked weight -------------\n",
      "Sample does not look Gaussian (reject H0)\n",
      "----------------------------------\n",
      "-------------- Viscera weight -------------\n",
      "Sample does not look Gaussian (reject H0)\n",
      "----------------------------------\n",
      "-------------- Shell weight -------------\n",
      "Sample does not look Gaussian (reject H0)\n",
      "----------------------------------\n",
      "-------------- generate_column1 -------------\n",
      "Sample looks Gaussian (fail to reject H0)\n",
      "----------------------------------\n",
      "-------------- generate_column2 -------------\n",
      "Sample looks Gaussian (fail to reject H0)\n",
      "----------------------------------\n",
      "-------------- generate_column3 -------------\n",
      "Sample looks Gaussian (fail to reject H0)\n",
      "----------------------------------\n",
      "-------------- generate_column4 -------------\n",
      "Sample looks Gaussian (fail to reject H0)\n",
      "----------------------------------\n"
     ]
    }
   ],
   "source": [
    "for col in dataset.columns:\n",
    "    print(\"-------------- {} -------------\".format(col))\n",
    "    shapiro_test(dataset[col])\n",
    "    print(\"----------------------------------\")"
   ]
  },
  {
   "cell_type": "markdown",
   "metadata": {},
   "source": [
    "-------------------------------------"
   ]
  },
  {
   "cell_type": "markdown",
   "metadata": {},
   "source": [
    "### Teste D'Agostino's K² ou Normaly teste"
   ]
  },
  {
   "cell_type": "markdown",
   "metadata": {},
   "source": [
    "Outro teste para testar o dado referente o quanto ele se difere de uma distribuição normal.<br>\n",
    "fonte: https://docs.scipy.org/doc/scipy/reference/generated/scipy.stats.normaltest.html"
   ]
  },
  {
   "cell_type": "code",
   "execution_count": 26,
   "metadata": {},
   "outputs": [],
   "source": [
    "import scipy.stats as st\n",
    "def normal_test(data):\n",
    "    D,p = st.normaltest(data)\n",
    "    alpha = 0.05\n",
    "    \n",
    "    if p > alpha:\n",
    "        print('Sample looks Gaussian (fail to reject H0)')\n",
    "    else:\n",
    "        print('Sample does not look Gaussian (reject H0)')\n",
    "    \n",
    "    return p"
   ]
  },
  {
   "cell_type": "code",
   "execution_count": 27,
   "metadata": {},
   "outputs": [
    {
     "name": "stdout",
     "output_type": "stream",
     "text": [
      "-------------- Length -------------\n",
      "Sample does not look Gaussian (reject H0)\n",
      "----------------------------------\n",
      "-------------- Diameter -------------\n",
      "Sample does not look Gaussian (reject H0)\n",
      "----------------------------------\n",
      "-------------- Height -------------\n",
      "Sample does not look Gaussian (reject H0)\n",
      "----------------------------------\n",
      "-------------- Whole weight -------------\n",
      "Sample does not look Gaussian (reject H0)\n",
      "----------------------------------\n",
      "-------------- Shucked weight -------------\n",
      "Sample does not look Gaussian (reject H0)\n",
      "----------------------------------\n",
      "-------------- Viscera weight -------------\n",
      "Sample does not look Gaussian (reject H0)\n",
      "----------------------------------\n",
      "-------------- Shell weight -------------\n",
      "Sample does not look Gaussian (reject H0)\n",
      "----------------------------------\n",
      "-------------- generate_column1 -------------\n",
      "Sample looks Gaussian (fail to reject H0)\n",
      "----------------------------------\n",
      "-------------- generate_column2 -------------\n",
      "Sample looks Gaussian (fail to reject H0)\n",
      "----------------------------------\n",
      "-------------- generate_column3 -------------\n",
      "Sample looks Gaussian (fail to reject H0)\n",
      "----------------------------------\n",
      "-------------- generate_column4 -------------\n",
      "Sample looks Gaussian (fail to reject H0)\n",
      "----------------------------------\n"
     ]
    }
   ],
   "source": [
    "for col in dataset.columns:\n",
    "    print(\"-------------- {} -------------\".format(col))\n",
    "    normal_test(dataset[col])\n",
    "    print(\"----------------------------------\")"
   ]
  },
  {
   "cell_type": "markdown",
   "metadata": {},
   "source": [
    "## Lilliefors normatility test\n",
    "\n",
    "Biblioteca importada de:<br>\n",
    "https://www.statsmodels.org/stable/generated/statsmodels.stats.diagnostic.lilliefors.html\n"
   ]
  },
  {
   "cell_type": "code",
   "execution_count": 30,
   "metadata": {},
   "outputs": [],
   "source": [
    "import statsmodels.api as sm\n",
    "def lillierfos_test(data):\n",
    "    D,p = sm.stats.diagnostic.lilliefors(data, dist=\"norm\")\n",
    "    alpha = 0.05\n",
    "    \n",
    "    if p > alpha:\n",
    "        print('Sample looks Gaussian (fail to reject H0)')\n",
    "    else:\n",
    "        print('Sample does not look Gaussian (reject H0)')\n",
    "    \n",
    "    return p"
   ]
  },
  {
   "cell_type": "code",
   "execution_count": 31,
   "metadata": {},
   "outputs": [
    {
     "name": "stdout",
     "output_type": "stream",
     "text": [
      "-------------- Length -------------\n",
      "Sample does not look Gaussian (reject H0)\n",
      "----------------------------------\n",
      "-------------- Diameter -------------\n",
      "Sample does not look Gaussian (reject H0)\n",
      "----------------------------------\n",
      "-------------- Height -------------\n",
      "Sample does not look Gaussian (reject H0)\n",
      "----------------------------------\n",
      "-------------- Whole weight -------------\n",
      "Sample does not look Gaussian (reject H0)\n",
      "----------------------------------\n",
      "-------------- Shucked weight -------------\n",
      "Sample does not look Gaussian (reject H0)\n",
      "----------------------------------\n",
      "-------------- Viscera weight -------------\n",
      "Sample does not look Gaussian (reject H0)\n",
      "----------------------------------\n",
      "-------------- Shell weight -------------\n",
      "Sample does not look Gaussian (reject H0)\n",
      "----------------------------------\n",
      "-------------- generate_column1 -------------\n",
      "Sample looks Gaussian (fail to reject H0)\n",
      "----------------------------------\n",
      "-------------- generate_column2 -------------\n",
      "Sample looks Gaussian (fail to reject H0)\n",
      "----------------------------------\n",
      "-------------- generate_column3 -------------\n",
      "Sample looks Gaussian (fail to reject H0)\n",
      "----------------------------------\n",
      "-------------- generate_column4 -------------\n",
      "Sample looks Gaussian (fail to reject H0)\n",
      "----------------------------------\n"
     ]
    }
   ],
   "source": [
    "for col in dataset.columns:\n",
    "    print(\"-------------- {} -------------\".format(col))\n",
    "    lillierfos_test(dataset[col])\n",
    "    print(\"----------------------------------\")"
   ]
  },
  {
   "cell_type": "markdown",
   "metadata": {},
   "source": [
    "Possível motivo para refletir o uso desses testes, referente ao teste de hipótese para normal:<br> \n",
    "    https://stackoverflow.com/questions/7781798/seeing-if-data-is-normally-distributed-in-r/7788452#7788452"
   ]
  },
  {
   "cell_type": "markdown",
   "metadata": {},
   "source": [
    "----------------------"
   ]
  },
  {
   "cell_type": "markdown",
   "metadata": {},
   "source": [
    "## Cramer Von Nices\n",
    "https://pypi.org/project/scikit-gof/<br>\n",
    "https://www.kaggle.com/thevenkateshgandi/normality-tests/notebook"
   ]
  },
  {
   "cell_type": "code",
   "execution_count": 32,
   "metadata": {},
   "outputs": [],
   "source": [
    "from skgof import cvm_test\n",
    "\n",
    "def von_misses(data):\n",
    "    p = cvm_test(data, \"norm\").pvalue\n",
    "    alpha = 0.05\n",
    "    \n",
    "    if p > alpha:\n",
    "        print('Sample looks Gaussian (fail to reject H0)')\n",
    "    else:\n",
    "        print('Sample does not look Gaussian (reject H0)')\n",
    "    \n",
    "    return p"
   ]
  },
  {
   "cell_type": "code",
   "execution_count": 33,
   "metadata": {},
   "outputs": [
    {
     "name": "stdout",
     "output_type": "stream",
     "text": [
      "-------------- Length -------------\n",
      "Sample looks Gaussian (fail to reject H0)\n",
      "----------------------------------\n",
      "-------------- Diameter -------------\n",
      "Sample looks Gaussian (fail to reject H0)\n",
      "----------------------------------\n",
      "-------------- Height -------------\n",
      "Sample looks Gaussian (fail to reject H0)\n",
      "----------------------------------\n",
      "-------------- Whole weight -------------\n",
      "Sample looks Gaussian (fail to reject H0)\n",
      "----------------------------------\n",
      "-------------- Shucked weight -------------\n",
      "Sample looks Gaussian (fail to reject H0)\n",
      "----------------------------------\n",
      "-------------- Viscera weight -------------\n",
      "Sample looks Gaussian (fail to reject H0)\n",
      "----------------------------------\n",
      "-------------- Shell weight -------------\n",
      "Sample looks Gaussian (fail to reject H0)\n",
      "----------------------------------\n",
      "-------------- generate_column1 -------------\n",
      "Sample looks Gaussian (fail to reject H0)\n",
      "----------------------------------\n",
      "-------------- generate_column2 -------------\n",
      "Sample looks Gaussian (fail to reject H0)\n",
      "----------------------------------\n",
      "-------------- generate_column3 -------------\n",
      "Sample looks Gaussian (fail to reject H0)\n",
      "----------------------------------\n",
      "-------------- generate_column4 -------------\n",
      "Sample looks Gaussian (fail to reject H0)\n",
      "----------------------------------\n"
     ]
    }
   ],
   "source": [
    "for col in dataset.columns:\n",
    "    print(\"-------------- {} -------------\".format(col))\n",
    "    von_misses(dataset[col])\n",
    "    print(\"----------------------------------\")"
   ]
  },
  {
   "cell_type": "markdown",
   "metadata": {},
   "source": [
    "-----------------------------------------"
   ]
  }
 ],
 "metadata": {
  "kernelspec": {
   "display_name": "Python 3",
   "language": "python",
   "name": "python3"
  },
  "language_info": {
   "codemirror_mode": {
    "name": "ipython",
    "version": 3
   },
   "file_extension": ".py",
   "mimetype": "text/x-python",
   "name": "python",
   "nbconvert_exporter": "python",
   "pygments_lexer": "ipython3",
   "version": "3.8.5"
  }
 },
 "nbformat": 4,
 "nbformat_minor": 4
}
