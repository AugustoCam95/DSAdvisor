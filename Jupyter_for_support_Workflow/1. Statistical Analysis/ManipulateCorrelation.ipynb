{
 "cells": [
  {
   "cell_type": "code",
   "execution_count": 55,
   "metadata": {},
   "outputs": [],
   "source": [
    "%matplotlib inline\n",
    "\n",
    "import os\n",
    "import pandas as pd \n",
    "import seaborn as sns\n",
    "import matplotlib.pyplot as plt\n"
   ]
  },
  {
   "cell_type": "code",
   "execution_count": 56,
   "metadata": {},
   "outputs": [],
   "source": [
    "df = pd.read_csv(\"diabetes.csv\")"
   ]
  },
  {
   "cell_type": "code",
   "execution_count": 57,
   "metadata": {},
   "outputs": [
    {
     "data": {
      "text/html": [
       "<div>\n",
       "<style scoped>\n",
       "    .dataframe tbody tr th:only-of-type {\n",
       "        vertical-align: middle;\n",
       "    }\n",
       "\n",
       "    .dataframe tbody tr th {\n",
       "        vertical-align: top;\n",
       "    }\n",
       "\n",
       "    .dataframe thead th {\n",
       "        text-align: right;\n",
       "    }\n",
       "</style>\n",
       "<table border=\"1\" class=\"dataframe\">\n",
       "  <thead>\n",
       "    <tr style=\"text-align: right;\">\n",
       "      <th></th>\n",
       "      <th>Pregnancies</th>\n",
       "      <th>Glucose</th>\n",
       "      <th>BloodPressure</th>\n",
       "      <th>SkinThickness</th>\n",
       "      <th>Insulin</th>\n",
       "      <th>BMI</th>\n",
       "      <th>DiabetesPedigreeFunction</th>\n",
       "      <th>Age</th>\n",
       "      <th>Outcome</th>\n",
       "    </tr>\n",
       "  </thead>\n",
       "  <tbody>\n",
       "    <tr>\n",
       "      <th>0</th>\n",
       "      <td>6</td>\n",
       "      <td>148</td>\n",
       "      <td>72</td>\n",
       "      <td>35</td>\n",
       "      <td>0</td>\n",
       "      <td>33.6</td>\n",
       "      <td>0.627</td>\n",
       "      <td>50</td>\n",
       "      <td>1</td>\n",
       "    </tr>\n",
       "    <tr>\n",
       "      <th>1</th>\n",
       "      <td>1</td>\n",
       "      <td>85</td>\n",
       "      <td>66</td>\n",
       "      <td>29</td>\n",
       "      <td>0</td>\n",
       "      <td>26.6</td>\n",
       "      <td>0.351</td>\n",
       "      <td>31</td>\n",
       "      <td>0</td>\n",
       "    </tr>\n",
       "    <tr>\n",
       "      <th>2</th>\n",
       "      <td>8</td>\n",
       "      <td>183</td>\n",
       "      <td>64</td>\n",
       "      <td>0</td>\n",
       "      <td>0</td>\n",
       "      <td>23.3</td>\n",
       "      <td>0.672</td>\n",
       "      <td>32</td>\n",
       "      <td>1</td>\n",
       "    </tr>\n",
       "    <tr>\n",
       "      <th>3</th>\n",
       "      <td>1</td>\n",
       "      <td>89</td>\n",
       "      <td>66</td>\n",
       "      <td>23</td>\n",
       "      <td>94</td>\n",
       "      <td>28.1</td>\n",
       "      <td>0.167</td>\n",
       "      <td>21</td>\n",
       "      <td>0</td>\n",
       "    </tr>\n",
       "    <tr>\n",
       "      <th>4</th>\n",
       "      <td>0</td>\n",
       "      <td>137</td>\n",
       "      <td>40</td>\n",
       "      <td>35</td>\n",
       "      <td>168</td>\n",
       "      <td>43.1</td>\n",
       "      <td>2.288</td>\n",
       "      <td>33</td>\n",
       "      <td>1</td>\n",
       "    </tr>\n",
       "    <tr>\n",
       "      <th>...</th>\n",
       "      <td>...</td>\n",
       "      <td>...</td>\n",
       "      <td>...</td>\n",
       "      <td>...</td>\n",
       "      <td>...</td>\n",
       "      <td>...</td>\n",
       "      <td>...</td>\n",
       "      <td>...</td>\n",
       "      <td>...</td>\n",
       "    </tr>\n",
       "    <tr>\n",
       "      <th>763</th>\n",
       "      <td>10</td>\n",
       "      <td>101</td>\n",
       "      <td>76</td>\n",
       "      <td>48</td>\n",
       "      <td>180</td>\n",
       "      <td>32.9</td>\n",
       "      <td>0.171</td>\n",
       "      <td>63</td>\n",
       "      <td>0</td>\n",
       "    </tr>\n",
       "    <tr>\n",
       "      <th>764</th>\n",
       "      <td>2</td>\n",
       "      <td>122</td>\n",
       "      <td>70</td>\n",
       "      <td>27</td>\n",
       "      <td>0</td>\n",
       "      <td>36.8</td>\n",
       "      <td>0.340</td>\n",
       "      <td>27</td>\n",
       "      <td>0</td>\n",
       "    </tr>\n",
       "    <tr>\n",
       "      <th>765</th>\n",
       "      <td>5</td>\n",
       "      <td>121</td>\n",
       "      <td>72</td>\n",
       "      <td>23</td>\n",
       "      <td>112</td>\n",
       "      <td>26.2</td>\n",
       "      <td>0.245</td>\n",
       "      <td>30</td>\n",
       "      <td>0</td>\n",
       "    </tr>\n",
       "    <tr>\n",
       "      <th>766</th>\n",
       "      <td>1</td>\n",
       "      <td>126</td>\n",
       "      <td>60</td>\n",
       "      <td>0</td>\n",
       "      <td>0</td>\n",
       "      <td>30.1</td>\n",
       "      <td>0.349</td>\n",
       "      <td>47</td>\n",
       "      <td>1</td>\n",
       "    </tr>\n",
       "    <tr>\n",
       "      <th>767</th>\n",
       "      <td>1</td>\n",
       "      <td>93</td>\n",
       "      <td>70</td>\n",
       "      <td>31</td>\n",
       "      <td>0</td>\n",
       "      <td>30.4</td>\n",
       "      <td>0.315</td>\n",
       "      <td>23</td>\n",
       "      <td>0</td>\n",
       "    </tr>\n",
       "  </tbody>\n",
       "</table>\n",
       "<p>768 rows × 9 columns</p>\n",
       "</div>"
      ],
      "text/plain": [
       "     Pregnancies  Glucose  BloodPressure  SkinThickness  Insulin   BMI  \\\n",
       "0              6      148             72             35        0  33.6   \n",
       "1              1       85             66             29        0  26.6   \n",
       "2              8      183             64              0        0  23.3   \n",
       "3              1       89             66             23       94  28.1   \n",
       "4              0      137             40             35      168  43.1   \n",
       "..           ...      ...            ...            ...      ...   ...   \n",
       "763           10      101             76             48      180  32.9   \n",
       "764            2      122             70             27        0  36.8   \n",
       "765            5      121             72             23      112  26.2   \n",
       "766            1      126             60              0        0  30.1   \n",
       "767            1       93             70             31        0  30.4   \n",
       "\n",
       "     DiabetesPedigreeFunction  Age  Outcome  \n",
       "0                       0.627   50        1  \n",
       "1                       0.351   31        0  \n",
       "2                       0.672   32        1  \n",
       "3                       0.167   21        0  \n",
       "4                       2.288   33        1  \n",
       "..                        ...  ...      ...  \n",
       "763                     0.171   63        0  \n",
       "764                     0.340   27        0  \n",
       "765                     0.245   30        0  \n",
       "766                     0.349   47        1  \n",
       "767                     0.315   23        0  \n",
       "\n",
       "[768 rows x 9 columns]"
      ]
     },
     "execution_count": 57,
     "metadata": {},
     "output_type": "execute_result"
    }
   ],
   "source": [
    "df"
   ]
  },
  {
   "cell_type": "code",
   "execution_count": 58,
   "metadata": {},
   "outputs": [],
   "source": [
    "pearson = df.corr(\"pearson\").values"
   ]
  },
  {
   "cell_type": "code",
   "execution_count": 59,
   "metadata": {},
   "outputs": [
    {
     "data": {
      "text/plain": [
       "array([[ 1.        ,  0.12945867,  0.14128198, -0.08167177, -0.07353461,\n",
       "         0.01768309, -0.03352267,  0.54434123,  0.22189815],\n",
       "       [ 0.12945867,  1.        ,  0.15258959,  0.05732789,  0.33135711,\n",
       "         0.22107107,  0.1373373 ,  0.26351432,  0.4665814 ],\n",
       "       [ 0.14128198,  0.15258959,  1.        ,  0.20737054,  0.08893338,\n",
       "         0.28180529,  0.04126495,  0.23952795,  0.06506836],\n",
       "       [-0.08167177,  0.05732789,  0.20737054,  1.        ,  0.43678257,\n",
       "         0.3925732 ,  0.18392757, -0.11397026,  0.07475223],\n",
       "       [-0.07353461,  0.33135711,  0.08893338,  0.43678257,  1.        ,\n",
       "         0.19785906,  0.18507093, -0.04216295,  0.13054795],\n",
       "       [ 0.01768309,  0.22107107,  0.28180529,  0.3925732 ,  0.19785906,\n",
       "         1.        ,  0.14064695,  0.03624187,  0.29269466],\n",
       "       [-0.03352267,  0.1373373 ,  0.04126495,  0.18392757,  0.18507093,\n",
       "         0.14064695,  1.        ,  0.03356131,  0.17384407],\n",
       "       [ 0.54434123,  0.26351432,  0.23952795, -0.11397026, -0.04216295,\n",
       "         0.03624187,  0.03356131,  1.        ,  0.23835598],\n",
       "       [ 0.22189815,  0.4665814 ,  0.06506836,  0.07475223,  0.13054795,\n",
       "         0.29269466,  0.17384407,  0.23835598,  1.        ]])"
      ]
     },
     "execution_count": 59,
     "metadata": {},
     "output_type": "execute_result"
    }
   ],
   "source": [
    "pearson"
   ]
  },
  {
   "cell_type": "code",
   "execution_count": 86,
   "metadata": {},
   "outputs": [],
   "source": [
    "one_percent_pearson = []\n",
    "five_percent_pearson = []\n",
    "ten_percet_pearson = []\n",
    "fifity_percent_pearson = []\n",
    "for i in range(len(list_pearson)):\n",
    "    for j in range(len(list_pearson[i])):\n",
    "        if 0.009 < pearson[i][j] < 0.02:\n",
    "            one_percent_pearson.append(pearson[i][j])\n",
    "        if 0.04 < pearson[i][j] < 0.06:\n",
    "            five_percent_pearson.append(pearson[i][j])\n",
    "        if 0.08 < pearson[i][j] < 0.012:\n",
    "            ten_percet_pearson.append(pearson[i][j])\n",
    "        if 0.49 < pearson[i][j] < 1:\n",
    "            fifity_percent_pearson.append(pearson[i][j])"
   ]
  },
  {
   "cell_type": "code",
   "execution_count": 87,
   "metadata": {},
   "outputs": [
    {
     "data": {
      "text/plain": [
       "[0.017683090727830673, 0.017683090727830673]"
      ]
     },
     "execution_count": 87,
     "metadata": {},
     "output_type": "execute_result"
    }
   ],
   "source": [
    "one_percent_pearson"
   ]
  },
  {
   "cell_type": "code",
   "execution_count": 88,
   "metadata": {},
   "outputs": [
    {
     "data": {
      "text/plain": [
       "[0.057327890738176825,\n",
       " 0.04126494793009854,\n",
       " 0.057327890738176825,\n",
       " 0.04126494793009854]"
      ]
     },
     "execution_count": 88,
     "metadata": {},
     "output_type": "execute_result"
    }
   ],
   "source": [
    "five_percent_pearson"
   ]
  },
  {
   "cell_type": "code",
   "execution_count": 89,
   "metadata": {},
   "outputs": [
    {
     "data": {
      "text/plain": [
       "[]"
      ]
     },
     "execution_count": 89,
     "metadata": {},
     "output_type": "execute_result"
    }
   ],
   "source": [
    "ten_percet_pearson"
   ]
  },
  {
   "cell_type": "code",
   "execution_count": 90,
   "metadata": {},
   "outputs": [
    {
     "data": {
      "text/plain": [
       "[0.5443412284023388, 0.5443412284023388]"
      ]
     },
     "execution_count": 90,
     "metadata": {},
     "output_type": "execute_result"
    }
   ],
   "source": [
    "fifity_percent_pearson"
   ]
  },
  {
   "cell_type": "markdown",
   "metadata": {},
   "source": [
    "------------------------------"
   ]
  },
  {
   "cell_type": "code",
   "execution_count": 91,
   "metadata": {},
   "outputs": [],
   "source": [
    "spearman = df.corr(\"spearman\").values"
   ]
  },
  {
   "cell_type": "code",
   "execution_count": 92,
   "metadata": {},
   "outputs": [
    {
     "data": {
      "text/plain": [
       "array([[ 1.00000000e+00,  1.30733524e-01,  1.85126732e-01,\n",
       "        -8.52223076e-02, -1.26722724e-01,  1.32146869e-04,\n",
       "        -4.32415012e-02,  6.07216339e-01,  1.98688749e-01],\n",
       "       [ 1.30733524e-01,  1.00000000e+00,  2.35190613e-01,\n",
       "         6.00221529e-02,  2.13205805e-01,  2.31141194e-01,\n",
       "         9.12933649e-02,  2.85044720e-01,  4.75776306e-01],\n",
       "       [ 1.85126732e-01,  2.35190613e-01,  1.00000000e+00,\n",
       "         1.26485871e-01, -6.77057181e-03,  2.92870430e-01,\n",
       "         3.00463349e-02,  3.50894593e-01,  1.42920675e-01],\n",
       "       [-8.52223076e-02,  6.00221529e-02,  1.26485871e-01,\n",
       "         1.00000000e+00,  5.41000137e-01,  4.43614508e-01,\n",
       "         1.80390483e-01, -6.67949211e-02,  8.97277603e-02],\n",
       "       [-1.26722724e-01,  2.13205805e-01, -6.77057181e-03,\n",
       "         5.41000137e-01,  1.00000000e+00,  1.92725681e-01,\n",
       "         2.21150492e-01, -1.14212917e-01,  6.64716474e-02],\n",
       "       [ 1.32146869e-04,  2.31141194e-01,  2.92870430e-01,\n",
       "         4.43614508e-01,  1.92725681e-01,  1.00000000e+00,\n",
       "         1.41192030e-01,  1.31185881e-01,  3.09706743e-01],\n",
       "       [-4.32415012e-02,  9.12933649e-02,  3.00463349e-02,\n",
       "         1.80390483e-01,  2.21150492e-01,  1.41192030e-01,\n",
       "         1.00000000e+00,  4.29085877e-02,  1.75353470e-01],\n",
       "       [ 6.07216339e-01,  2.85044720e-01,  3.50894593e-01,\n",
       "        -6.67949211e-02, -1.14212917e-01,  1.31185881e-01,\n",
       "         4.29085877e-02,  1.00000000e+00,  3.09040264e-01],\n",
       "       [ 1.98688749e-01,  4.75776306e-01,  1.42920675e-01,\n",
       "         8.97277603e-02,  6.64716474e-02,  3.09706743e-01,\n",
       "         1.75353470e-01,  3.09040264e-01,  1.00000000e+00]])"
      ]
     },
     "execution_count": 92,
     "metadata": {},
     "output_type": "execute_result"
    }
   ],
   "source": [
    "spearman"
   ]
  },
  {
   "cell_type": "code",
   "execution_count": 93,
   "metadata": {},
   "outputs": [],
   "source": [
    "one_percent_spearman = []\n",
    "five_percent_spearman = []\n",
    "ten_percet_spearman = []\n",
    "fifity_percent_spearman = []\n",
    "for i in range(len(spearman)):\n",
    "    for j in range(len(spearman[i])):\n",
    "        if 0.009 < spearman[i][j] < 0.02:\n",
    "            one_percent_spearman.append(spearman[i][j])\n",
    "        if 0.04 < spearman[i][j] < 0.06:\n",
    "            five_percent_spearman.append(spearman[i][j])\n",
    "        if 0.08 < spearman[i][j] < 0.012:\n",
    "            ten_percet_spearman.append(spearman[i][j])\n",
    "        if 0.49 < spearman[i][j] < 1:\n",
    "            fifity_percent_spearman.append(spearman[i][j])"
   ]
  },
  {
   "cell_type": "code",
   "execution_count": 94,
   "metadata": {},
   "outputs": [
    {
     "data": {
      "text/plain": [
       "[]"
      ]
     },
     "execution_count": 94,
     "metadata": {},
     "output_type": "execute_result"
    }
   ],
   "source": [
    "one_percent_spearman"
   ]
  },
  {
   "cell_type": "code",
   "execution_count": 95,
   "metadata": {},
   "outputs": [
    {
     "data": {
      "text/plain": [
       "[0.042908587709087904, 0.042908587709087904]"
      ]
     },
     "execution_count": 95,
     "metadata": {},
     "output_type": "execute_result"
    }
   ],
   "source": [
    "five_percent_spearman"
   ]
  },
  {
   "cell_type": "code",
   "execution_count": 96,
   "metadata": {},
   "outputs": [
    {
     "data": {
      "text/plain": [
       "[]"
      ]
     },
     "execution_count": 96,
     "metadata": {},
     "output_type": "execute_result"
    }
   ],
   "source": [
    "ten_percet_spearman"
   ]
  },
  {
   "cell_type": "code",
   "execution_count": 97,
   "metadata": {},
   "outputs": [
    {
     "data": {
      "text/plain": [
       "[0.6072163388236559,\n",
       " 0.5410001366628014,\n",
       " 0.5410001366628014,\n",
       " 0.6072163388236559]"
      ]
     },
     "execution_count": 97,
     "metadata": {},
     "output_type": "execute_result"
    }
   ],
   "source": [
    "fifity_percent_spearman"
   ]
  },
  {
   "cell_type": "code",
   "execution_count": null,
   "metadata": {},
   "outputs": [],
   "source": []
  }
 ],
 "metadata": {
  "kernelspec": {
   "display_name": "Python 3",
   "language": "python",
   "name": "python3"
  },
  "language_info": {
   "codemirror_mode": {
    "name": "ipython",
    "version": 3
   },
   "file_extension": ".py",
   "mimetype": "text/x-python",
   "name": "python",
   "nbconvert_exporter": "python",
   "pygments_lexer": "ipython3",
   "version": "3.8.2"
  }
 },
 "nbformat": 4,
 "nbformat_minor": 4
}
