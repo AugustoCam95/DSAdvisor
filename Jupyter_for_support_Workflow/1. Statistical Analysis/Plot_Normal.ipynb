{
 "cells": [
  {
   "cell_type": "code",
   "execution_count": 1,
   "metadata": {},
   "outputs": [],
   "source": [
    "## IMPORTS\n",
    "%matplotlib inline\n",
    "import os\n",
    "import easygui\n",
    "import seaborn as sns\n",
    "import numpy as np\n",
    "from scipy import stats\n",
    "import pandas as pd\n",
    "import matplotlib.pyplot as plt\n",
    "import warnings\n",
    "import scipy.stats as st\n",
    "from sklearn.preprocessing import MinMaxScaler\n",
    "from matplotlib import cm\n",
    "\n",
    "warnings.filterwarnings('ignore') "
   ]
  },
  {
   "cell_type": "code",
   "execution_count": 2,
   "metadata": {},
   "outputs": [],
   "source": [
    "df = pd.read_csv(\"diabetes.csv\")"
   ]
  },
  {
   "cell_type": "code",
   "execution_count": 3,
   "metadata": {},
   "outputs": [
    {
     "name": "stdout",
     "output_type": "stream",
     "text": [
      "Column Pregnancies is not userfull\n",
      "Column Glucose is not userfull\n",
      "Column BloodPressure is not userfull\n",
      "Column SkinThickness is not userfull\n",
      "Column Insulin is not userfull\n",
      "Column BMI userfull\n",
      "Column DiabetesPedigreeFunction userfull\n",
      "Column Age is not userfull\n",
      "Column Outcome is not userfull\n"
     ]
    }
   ],
   "source": [
    "for col in df.columns:\n",
    "    if df[col].dtypes == 'float64':\n",
    "        print(\"Column {} userfull\".format(col))\n",
    "    else:\n",
    "        print(\"Column {} is not userfull\".format(col))\n",
    "        df = df.drop( columns = [col])"
   ]
  },
  {
   "cell_type": "code",
   "execution_count": 4,
   "metadata": {},
   "outputs": [
    {
     "data": {
      "text/html": [
       "<div>\n",
       "<style scoped>\n",
       "    .dataframe tbody tr th:only-of-type {\n",
       "        vertical-align: middle;\n",
       "    }\n",
       "\n",
       "    .dataframe tbody tr th {\n",
       "        vertical-align: top;\n",
       "    }\n",
       "\n",
       "    .dataframe thead th {\n",
       "        text-align: right;\n",
       "    }\n",
       "</style>\n",
       "<table border=\"1\" class=\"dataframe\">\n",
       "  <thead>\n",
       "    <tr style=\"text-align: right;\">\n",
       "      <th></th>\n",
       "      <th>BMI</th>\n",
       "      <th>DiabetesPedigreeFunction</th>\n",
       "    </tr>\n",
       "  </thead>\n",
       "  <tbody>\n",
       "    <tr>\n",
       "      <th>0</th>\n",
       "      <td>33.6</td>\n",
       "      <td>0.627</td>\n",
       "    </tr>\n",
       "    <tr>\n",
       "      <th>1</th>\n",
       "      <td>26.6</td>\n",
       "      <td>0.351</td>\n",
       "    </tr>\n",
       "    <tr>\n",
       "      <th>2</th>\n",
       "      <td>23.3</td>\n",
       "      <td>0.672</td>\n",
       "    </tr>\n",
       "    <tr>\n",
       "      <th>3</th>\n",
       "      <td>28.1</td>\n",
       "      <td>0.167</td>\n",
       "    </tr>\n",
       "    <tr>\n",
       "      <th>4</th>\n",
       "      <td>43.1</td>\n",
       "      <td>2.288</td>\n",
       "    </tr>\n",
       "    <tr>\n",
       "      <th>...</th>\n",
       "      <td>...</td>\n",
       "      <td>...</td>\n",
       "    </tr>\n",
       "    <tr>\n",
       "      <th>763</th>\n",
       "      <td>32.9</td>\n",
       "      <td>0.171</td>\n",
       "    </tr>\n",
       "    <tr>\n",
       "      <th>764</th>\n",
       "      <td>36.8</td>\n",
       "      <td>0.340</td>\n",
       "    </tr>\n",
       "    <tr>\n",
       "      <th>765</th>\n",
       "      <td>26.2</td>\n",
       "      <td>0.245</td>\n",
       "    </tr>\n",
       "    <tr>\n",
       "      <th>766</th>\n",
       "      <td>30.1</td>\n",
       "      <td>0.349</td>\n",
       "    </tr>\n",
       "    <tr>\n",
       "      <th>767</th>\n",
       "      <td>30.4</td>\n",
       "      <td>0.315</td>\n",
       "    </tr>\n",
       "  </tbody>\n",
       "</table>\n",
       "<p>768 rows × 2 columns</p>\n",
       "</div>"
      ],
      "text/plain": [
       "      BMI  DiabetesPedigreeFunction\n",
       "0    33.6                     0.627\n",
       "1    26.6                     0.351\n",
       "2    23.3                     0.672\n",
       "3    28.1                     0.167\n",
       "4    43.1                     2.288\n",
       "..    ...                       ...\n",
       "763  32.9                     0.171\n",
       "764  36.8                     0.340\n",
       "765  26.2                     0.245\n",
       "766  30.1                     0.349\n",
       "767  30.4                     0.315\n",
       "\n",
       "[768 rows x 2 columns]"
      ]
     },
     "execution_count": 4,
     "metadata": {},
     "output_type": "execute_result"
    }
   ],
   "source": [
    "df"
   ]
  },
  {
   "cell_type": "code",
   "execution_count": 5,
   "metadata": {},
   "outputs": [],
   "source": [
    "def get_best_distribution(data):\n",
    "    dist_names = [\"alpha\", \"anglit\", \"arcsine\", \"argus\", \"beta\", \"betaprime\", \"bradford\", \"burr\", \"burr12\", \n",
    "                  \"cauchy\", \"chi\",\"chi2\",\"cosine\",\"crystalball\", \"dgamma\", \"dweibull\", \"erlang\", \"expon\", \n",
    "                  \"exponnorm\",\"exponweib\", \"exponpow\", \"f\", \"fatiguelife\", \"fisk\", \"foldcauchy\", \"foldnorm\", \n",
    "                  \"frechet_r\", \"frechet_l\", \"genlogistic\", \"gennorm\", \"genpareto\", \"genexpon\", \"genextreme\",\n",
    "                  \"gausshyper\", \"gamma\", \"gengamma\", \"genhalflogistic\", \"gilbrat\", \"gompertz\", \n",
    "                  \"gumbel_r\", \"gumbel_l\", \"halfcauchy\", \"halflogistic\", \"halfnorm\", \"halfgennorm\", \"hypsecant\", \n",
    "                  \"invgamma\", \"invweibull\", \"johnsonsb\", \"johnsonsu\", \"kappa4\", \"kappa3\", \"ksone\", \n",
    "                  \"kstwobign\", \"laplace\", \"levy\", \"levy_l\", \"logistic\", \"loggamma\", \"loglaplace\",\n",
    "                  \"lognorm\", \"loguniform\", \"lomax\", \"maxwell\", \"mielke\", \"moyal\", \"nakagami\", \"ncx2\",\"ncf\",\n",
    "                  \"norm\", \"pareto\", \"pearson3\", \"powerlaw\", \"powerlognorm\", \"powernorm\",\"rdist\", \n",
    "                  \"rayleigh\", \"rice\", \"semicircular\", \"skewnorm\", \"t\", \"trapz\", \"triang\",\n",
    "                  \"truncexpon\", \"uniform\", \"vonmises\", \"vonmises_line\", \"wald\", \"weibull_min\",\n",
    "                  \"weibull_max\", \"wrapcauchy\"]\n",
    "    dist_results = []\n",
    "    params = {}\n",
    "    for dist_name in dist_names:\n",
    "        dist = getattr(st, dist_name)\n",
    "        param = dist.fit(data)\n",
    "        params[dist_name] = param\n",
    "        # Applying the Kolmogorov-Smirnov test\n",
    "        D, p = st.kstest(data, dist_name, args=param)\n",
    "#         print(\"p value for \"+dist_name+\" = \"+str(p))\n",
    "        dist_results.append((dist_name, p))\n",
    "    # select the best fitted distribution\n",
    "    best_dist, best_p = (max(dist_results, key=lambda item: item[1]))\n",
    "    # store the name of the best fit and its p value\n",
    "    print(\"Best fitting distribution: \"+str(best_dist))\n",
    "    print(\"Best p value: \"+ str(best_p))\n",
    "    print(\"Parameters for the best fit: \"+ str(params[best_dist]))\n",
    "    return best_dist, best_p, params[best_dist]"
   ]
  },
  {
   "cell_type": "code",
   "execution_count": 6,
   "metadata": {},
   "outputs": [
    {
     "name": "stdout",
     "output_type": "stream",
     "text": [
      "-------------- BMI -------------\n",
      "Best fitting distribution: johnsonsu\n",
      "Best p value: 0.6110030131750179\n",
      "Parameters for the best fit: (-0.07418182840818902, 1.6576717964771226, 31.479612264470276, 10.607474080243495)\n",
      "----------------------------------\n",
      "-------------- DiabetesPedigreeFunction -------------\n",
      "Best fitting distribution: exponnorm\n",
      "Best p value: 0.6178336919237628\n",
      "Parameters for the best fit: (8.614506825032835, 0.13600483035238153, 0.03898905641231575)\n",
      "----------------------------------\n"
     ]
    }
   ],
   "source": [
    "dist_list = []\n",
    "for col in df.columns:\n",
    "    print(\"-------------- {} -------------\".format(col))\n",
    "    dist,_,_ = get_best_distribution(df[col])\n",
    "    dist_list.append(dist)\n",
    "    print(\"----------------------------------\")"
   ]
  },
  {
   "cell_type": "code",
   "execution_count": 7,
   "metadata": {},
   "outputs": [
    {
     "data": {
      "text/plain": [
       "['johnsonsu', 'exponnorm']"
      ]
     },
     "execution_count": 7,
     "metadata": {},
     "output_type": "execute_result"
    }
   ],
   "source": [
    "dist_list"
   ]
  },
  {
   "cell_type": "code",
   "execution_count": 8,
   "metadata": {},
   "outputs": [
    {
     "data": {
      "text/plain": [
       "<Figure size 432x288 with 0 Axes>"
      ]
     },
     "metadata": {},
     "output_type": "display_data"
    }
   ],
   "source": [
    "for col,dist_ in zip(df.columns,dist_list):\n",
    "    \n",
    "\n",
    "    plt.hist(df[col], bins=25, density=True, alpha=0.6, color='g')\n",
    "\n",
    "    # Plot the PDF.\n",
    "    mu, std = st.norm.fit(df[col])\n",
    "    xmin, xmax = plt.xlim()\n",
    "    x = np.linspace(xmin, xmax, len(df))\n",
    "    p = st.norm.pdf(x, mu, std)\n",
    "    plt.plot(x, p,\"k:\", linewidth=2, label = \"norm\")\n",
    "    \n",
    "    # Plot second PDF.\n",
    "    dist = getattr(st, dist_)\n",
    "    param = dist.fit(df[col])\n",
    "    mu1 = param[len(param)-2] \n",
    "    std1 = param[len(param)-1]\n",
    "    ymin, ymax = plt.xlim()\n",
    "    y = np.linspace(ymin, ymax, len(df))\n",
    "    q = dist.pdf(y,*param[:-2] ,loc = mu1, scale = std1)\n",
    "    plt.plot(y, q, 'r', linewidth = 1, label = dist_)\n",
    "#     title = \"Fit results: mu = %.2f,  std = %.2f\" % (mu, std)\n",
    "#     plt.title(title)\n",
    "\n",
    "    plt.legend()\n",
    "    plt.savefig(\"images/\"+col+\".jpg\")\n",
    "    plt.clf()\n",
    "\n"
   ]
  },
  {
   "cell_type": "code",
   "execution_count": 10,
   "metadata": {},
   "outputs": [
    {
     "data": {
      "text/plain": [
       "0      33.6\n",
       "1      26.6\n",
       "2      23.3\n",
       "3      28.1\n",
       "4      43.1\n",
       "       ... \n",
       "763    32.9\n",
       "764    36.8\n",
       "765    26.2\n",
       "766    30.1\n",
       "767    30.4\n",
       "Name: BMI, Length: 768, dtype: float64"
      ]
     },
     "execution_count": 10,
     "metadata": {},
     "output_type": "execute_result"
    }
   ],
   "source": []
  },
  {
   "cell_type": "code",
   "execution_count": null,
   "metadata": {},
   "outputs": [],
   "source": []
  }
 ],
 "metadata": {
  "kernelspec": {
   "display_name": "Python 3",
   "language": "python",
   "name": "python3"
  },
  "language_info": {
   "codemirror_mode": {
    "name": "ipython",
    "version": 3
   },
   "file_extension": ".py",
   "mimetype": "text/x-python",
   "name": "python",
   "nbconvert_exporter": "python",
   "pygments_lexer": "ipython3",
   "version": "3.8.2"
  }
 },
 "nbformat": 4,
 "nbformat_minor": 4
}
