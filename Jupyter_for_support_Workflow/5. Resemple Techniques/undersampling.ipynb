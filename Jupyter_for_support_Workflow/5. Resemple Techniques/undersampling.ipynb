{
 "cells": [
  {
   "cell_type": "code",
   "execution_count": 1,
   "metadata": {},
   "outputs": [],
   "source": [
    "%matplotlib inline\n",
    "\n",
    "import csv\n",
    "import easygui\n",
    "import seaborn as sns\n",
    "import numpy as np\n",
    "import pandas as pd\n",
    "import matplotlib.pyplot as plt\n",
    "import warnings\n",
    "from sklearn import preprocessing\n",
    "from collections import Counter\n",
    " \n",
    "warnings.filterwarnings('ignore') "
   ]
  },
  {
   "cell_type": "code",
   "execution_count": 2,
   "metadata": {},
   "outputs": [],
   "source": [
    "df = pd.read_csv(\"abalone.csv\")"
   ]
  },
  {
   "cell_type": "code",
   "execution_count": 3,
   "metadata": {},
   "outputs": [],
   "source": [
    "df_columns = list(df.columns)"
   ]
  },
  {
   "cell_type": "code",
   "execution_count": 4,
   "metadata": {},
   "outputs": [],
   "source": [
    "# le = preprocessing.LabelEncoder()\n",
    "# for col in df.columns:\n",
    "#         if df[col].dtypes == 'object' :\n",
    "#             df[col] = le.fit_transform(df[col])"
   ]
  },
  {
   "cell_type": "code",
   "execution_count": 5,
   "metadata": {},
   "outputs": [
    {
     "data": {
      "text/plain": [
       "'OK'"
      ]
     },
     "execution_count": 5,
     "metadata": {},
     "output_type": "execute_result"
    }
   ],
   "source": [
    "Y_choiced = easygui.buttonbox(\"Qual coluna será seu Y ? Dica: Em alguns dataset's a coluna rotulada é a última muitas vezes.\",title = \"Escolher-Y\", choices = df_columns )\n",
    "easygui.msgbox (\"Você escolheu coluna: \" + Y_choiced)"
   ]
  },
  {
   "cell_type": "code",
   "execution_count": 6,
   "metadata": {},
   "outputs": [],
   "source": [
    "dataset = df.drop(columns = [Y_choiced])\n",
    "labels = df[[Y_choiced]]"
   ]
  },
  {
   "cell_type": "code",
   "execution_count": 11,
   "metadata": {},
   "outputs": [],
   "source": [
    "# target = labels.values[:,0]\n",
    "counter = Counter(labels.values[:,0])\n",
    "# for k,v in counter.items():\n",
    "# \tper = v / len(target) * 100\n",
    "# \tprint('Class=%d || Count=%d || Percentage=%.3f%%' % (k, v, per))"
   ]
  },
  {
   "cell_type": "code",
   "execution_count": 12,
   "metadata": {},
   "outputs": [
    {
     "data": {
      "text/plain": [
       "dict_items([(15, 103), (7, 391), (9, 689), (10, 634), (8, 568), (20, 26), (16, 67), (19, 32), (14, 126), (11, 487), (12, 267), (18, 42), (13, 203), (5, 115), (4, 57), (6, 259), (21, 14), (17, 58), (22, 6), (1, 1), (3, 15), (26, 1), (23, 9), (29, 1), (2, 1), (27, 2), (25, 1), (24, 2)])"
      ]
     },
     "execution_count": 12,
     "metadata": {},
     "output_type": "execute_result"
    }
   ],
   "source": [
    "counter.items()"
   ]
  },
  {
   "cell_type": "code",
   "execution_count": 9,
   "metadata": {},
   "outputs": [
    {
     "name": "stdout",
     "output_type": "stream",
     "text": [
      "Menor valor:  1\n"
     ]
    }
   ],
   "source": [
    "min_value = min(counter.items(), key=lambda x: x[1])[1]\n",
    "print(\"Menor valor: \", min_value )"
   ]
  },
  {
   "cell_type": "code",
   "execution_count": 10,
   "metadata": {},
   "outputs": [
    {
     "name": "stdout",
     "output_type": "stream",
     "text": [
      "Maior valor:  689\n"
     ]
    }
   ],
   "source": [
    "max_value = max(counter.items(), key=lambda x: x[1])[1]\n",
    "print(\"Maior valor: \", max_value )"
   ]
  },
  {
   "cell_type": "code",
   "execution_count": 11,
   "metadata": {},
   "outputs": [],
   "source": [
    "with open('before_.csv', mode='w') as csv_file:\n",
    "    fieldnames = ['Class', 'Count', 'Percentage']\n",
    "    writer = csv.DictWriter(csv_file, fieldnames=fieldnames)\n",
    "    writer.writeheader()\n",
    "    for k,v in counter.items():\n",
    "        per = round(v / len(target) * 100, 2)\n",
    "        writer.writerow({'Class': k, 'Count': v, 'Percentage': per})"
   ]
  },
  {
   "cell_type": "code",
   "execution_count": 12,
   "metadata": {},
   "outputs": [],
   "source": [
    "from imblearn.under_sampling import RandomUnderSampler"
   ]
  },
  {
   "cell_type": "code",
   "execution_count": 13,
   "metadata": {},
   "outputs": [],
   "source": [
    "rus = RandomUnderSampler(random_state=0)"
   ]
  },
  {
   "cell_type": "code",
   "execution_count": 14,
   "metadata": {},
   "outputs": [
    {
     "name": "stdout",
     "output_type": "stream",
     "text": [
      "(4177, 8)\n"
     ]
    }
   ],
   "source": [
    "data = dataset.values\n",
    "print(data.shape)"
   ]
  },
  {
   "cell_type": "code",
   "execution_count": 15,
   "metadata": {},
   "outputs": [
    {
     "name": "stdout",
     "output_type": "stream",
     "text": [
      "(4177,)\n"
     ]
    }
   ],
   "source": [
    "target = labels[Y_choiced].values\n",
    "print(target.shape)"
   ]
  },
  {
   "cell_type": "code",
   "execution_count": 16,
   "metadata": {},
   "outputs": [],
   "source": [
    "x_res, y_res = rus.fit_sample(data, target)"
   ]
  },
  {
   "cell_type": "code",
   "execution_count": 17,
   "metadata": {},
   "outputs": [
    {
     "name": "stdout",
     "output_type": "stream",
     "text": [
      "(28, 8)\n"
     ]
    }
   ],
   "source": [
    "x_res\n",
    "print(x_res.shape)"
   ]
  },
  {
   "cell_type": "code",
   "execution_count": 18,
   "metadata": {},
   "outputs": [
    {
     "name": "stdout",
     "output_type": "stream",
     "text": [
      "(28,)\n"
     ]
    }
   ],
   "source": [
    "y_res\n",
    "print(y_res.shape)"
   ]
  },
  {
   "cell_type": "code",
   "execution_count": 19,
   "metadata": {},
   "outputs": [
    {
     "name": "stdout",
     "output_type": "stream",
     "text": [
      "Class=1 || Count=1 || Percentage=3.571%\n",
      "Class=2 || Count=1 || Percentage=3.571%\n",
      "Class=3 || Count=1 || Percentage=3.571%\n",
      "Class=4 || Count=1 || Percentage=3.571%\n",
      "Class=5 || Count=1 || Percentage=3.571%\n",
      "Class=6 || Count=1 || Percentage=3.571%\n",
      "Class=7 || Count=1 || Percentage=3.571%\n",
      "Class=8 || Count=1 || Percentage=3.571%\n",
      "Class=9 || Count=1 || Percentage=3.571%\n",
      "Class=10 || Count=1 || Percentage=3.571%\n",
      "Class=11 || Count=1 || Percentage=3.571%\n",
      "Class=12 || Count=1 || Percentage=3.571%\n",
      "Class=13 || Count=1 || Percentage=3.571%\n",
      "Class=14 || Count=1 || Percentage=3.571%\n",
      "Class=15 || Count=1 || Percentage=3.571%\n",
      "Class=16 || Count=1 || Percentage=3.571%\n",
      "Class=17 || Count=1 || Percentage=3.571%\n",
      "Class=18 || Count=1 || Percentage=3.571%\n",
      "Class=19 || Count=1 || Percentage=3.571%\n",
      "Class=20 || Count=1 || Percentage=3.571%\n",
      "Class=21 || Count=1 || Percentage=3.571%\n",
      "Class=22 || Count=1 || Percentage=3.571%\n",
      "Class=23 || Count=1 || Percentage=3.571%\n",
      "Class=24 || Count=1 || Percentage=3.571%\n",
      "Class=25 || Count=1 || Percentage=3.571%\n",
      "Class=26 || Count=1 || Percentage=3.571%\n",
      "Class=27 || Count=1 || Percentage=3.571%\n",
      "Class=29 || Count=1 || Percentage=3.571%\n"
     ]
    }
   ],
   "source": [
    "target = y_res\n",
    "counter = Counter(target)\n",
    "for k,v in counter.items():\n",
    "\tper = v / len(target) * 100\n",
    "\tprint('Class=%d || Count=%d || Percentage=%.3f%%' % (k, v, per))"
   ]
  },
  {
   "cell_type": "code",
   "execution_count": 67,
   "metadata": {},
   "outputs": [],
   "source": [
    "with open('after_.csv', mode='w') as csv_file:\n",
    "    fieldnames = ['Class', 'Count', 'Percentage']\n",
    "    writer = csv.DictWriter(csv_file, fieldnames=fieldnames)\n",
    "    writer.writeheader()\n",
    "    for k,v in counter.items():\n",
    "        per = round(v / len(target) * 100, 2)\n",
    "        writer.writerow({'Class': k, 'Count': v, 'Percentage': per})"
   ]
  },
  {
   "cell_type": "code",
   "execution_count": null,
   "metadata": {},
   "outputs": [],
   "source": []
  }
 ],
 "metadata": {
  "kernelspec": {
   "display_name": "Python 3",
   "language": "python",
   "name": "python3"
  },
  "language_info": {
   "codemirror_mode": {
    "name": "ipython",
    "version": 3
   },
   "file_extension": ".py",
   "mimetype": "text/x-python",
   "name": "python",
   "nbconvert_exporter": "python",
   "pygments_lexer": "ipython3",
   "version": "3.8.2"
  }
 },
 "nbformat": 4,
 "nbformat_minor": 4
}
